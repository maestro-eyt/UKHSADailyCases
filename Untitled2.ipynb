{
 "cells": [
  {
   "cell_type": "code",
   "execution_count": 1,
   "id": "88918be7-a8cc-499d-b2c0-1fffc973806b",
   "metadata": {},
   "outputs": [],
   "source": [
    "import requests"
   ]
  },
  {
   "cell_type": "code",
   "execution_count": 2,
   "id": "36a205a9-9470-45ca-9f96-a62f21a4e5a7",
   "metadata": {},
   "outputs": [
    {
     "name": "stdout",
     "output_type": "stream",
     "text": [
      "--2024-10-24 13:20:23--  https://api.ukhsa-dashboard.data.gov.uk/themes/infectious_disease/sub_themes/bloodstream_infection/topics/MRSA/geography_types/Nation/geographies/England/metrics/MRSA_cases_countsByOnsetType\n",
      "Resolving api.ukhsa-dashboard.data.gov.uk (api.ukhsa-dashboard.data.gov.uk)... 108.138.217.42, 108.138.217.58, 108.138.217.88, ...\n",
      "Connecting to api.ukhsa-dashboard.data.gov.uk (api.ukhsa-dashboard.data.gov.uk)|108.138.217.42|:443... connected.\n",
      "HTTP request sent, awaiting response... 200 OK\n",
      "Length: 2192 (2.1K) [application/json]\n",
      "Saving to: ‘MRSA_cases_countsByOnsetType.1’\n",
      "\n",
      "MRSA_cases_countsBy 100%[===================>]   2.14K  --.-KB/s    in 0s      \n",
      "\n",
      "2024-10-24 13:20:24 (311 MB/s) - ‘MRSA_cases_countsByOnsetType.1’ saved [2192/2192]\n",
      "\n"
     ]
    }
   ],
   "source": [
    "!wget https://api.ukhsa-dashboard.data.gov.uk/themes/infectious_disease/sub_themes/bloodstream_infection/topics/MRSA/geography_types/Nation/geographies/England/metrics/MRSA_cases_countsByOnsetType"
   ]
  },
  {
   "cell_type": "code",
   "execution_count": 3,
   "id": "a49c09b4-dd8b-46ff-a48b-f6b4d4c5e4b3",
   "metadata": {},
   "outputs": [
    {
     "name": "stdout",
     "output_type": "stream",
     "text": [
      "{\"count\":90,\"next\":\"https://api.ukhsa-dashboard.data.gov.uk/themes/infectious_disease/sub_themes/bloodstream_infection/topics/MRSA/geography_types/Nation/geographies/England/metrics/MRSA_cases_countsByOnsetType?page=2\",\"previous\":null,\"results\":[{\"theme\":\"infectious_disease\",\"sub_theme\":\"bloodstream_infection\",\"topic\":\"MRSA\",\"geography_type\":\"Nation\",\"geography\":\"England\",\"geography_code\":\"E92000001\",\"metric\":\"MRSA_cases_countsByOnsetType\",\"metric_group\":\"cases\",\"stratum\":\"Hospital-onset, healthcare associated\",\"sex\":\"all\",\"age\":\"all\",\"year\":2023,\"month\":6,\"epiweek\":26,\"date\":\"2023-06-30\",\"metric_value\":25.0,\"in_reporting_delay_period\":false},{\"theme\":\"infectious_disease\",\"sub_theme\":\"bloodstream_infection\",\"topic\":\"MRSA\",\"geography_type\":\"Nation\",\"geography\":\"England\",\"geography_code\":\"E92000001\",\"metric\":\"MRSA_cases_countsByOnsetType\",\"metric_group\":\"cases\",\"stratum\":\"Total cases\",\"sex\":\"all\",\"age\":\"all\",\"year\":2023,\"month\":6,\"epiweek\":26,\"date\":\"2023-06-30\",\"metric_value\":73.0,\"in_reporting_delay_period\":false},{\"theme\":\"infectious_disease\",\"sub_theme\":\"bloodstream_infection\",\"topic\":\"MRSA\",\"geography_type\":\"Nation\",\"geography\":\"England\",\"geography_code\":\"E92000001\",\"metric\":\"MRSA_cases_countsByOnsetType\",\"metric_group\":\"cases\",\"stratum\":\"Unknown\",\"sex\":\"all\",\"age\":\"all\",\"year\":2023,\"month\":6,\"epiweek\":26,\"date\":\"2023-06-30\",\"metric_value\":0.0,\"in_reporting_delay_period\":false},{\"theme\":\"infectious_disease\",\"sub_theme\":\"bloodstream_infection\",\"topic\":\"MRSA\",\"geography_type\":\"Nation\",\"geography\":\"England\",\"geography_code\":\"E92000001\",\"metric\":\"MRSA_cases_countsByOnsetType\",\"metric_group\":\"cases\",\"stratum\":\"Community-onset, healthcare associated\",\"sex\":\"all\",\"age\":\"all\",\"year\":2023,\"month\":6,\"epiweek\":26,\"date\":\"2023-06-30\",\"metric_value\":11.0,\"in_reporting_delay_period\":false},{\"theme\":\"infectious_disease\",\"sub_theme\":\"bloodstream_infection\",\"topic\":\"MRSA\",\"geography_type\":\"Nation\",\"geography\":\"England\",\"geography_code\":\"E92000001\",\"metric\":\"MRSA_cases_countsByOnsetType\",\"metric_group\":\"cases\",\"stratum\":\"No information\",\"sex\":\"all\",\"age\":\"all\",\"year\":2023,\"month\":6,\"epiweek\":26,\"date\":\"2023-06-30\",\"metric_value\":0.0,\"in_reporting_delay_period\":false}]}"
     ]
    }
   ],
   "source": [
    "cat MRSA_cases_countsByOnsetType"
   ]
  },
  {
   "cell_type": "code",
   "execution_count": 4,
   "id": "982251d8-b5f2-43bf-b59c-99c7d0f89b8f",
   "metadata": {},
   "outputs": [
    {
     "data": {
      "text/plain": [
       "{'count': 42,\n",
       " 'next': 'https://api.ukhsa-dashboard.data.gov.uk/themes/infectious_disease/sub_themes/bloodstream_infection/topics/MRSA/geography_types/Nation/geographies/England/metrics/MRSA_cases_countsByOnsetType?page=2&year=2023',\n",
       " 'previous': None,\n",
       " 'results': [{'theme': 'infectious_disease',\n",
       "   'sub_theme': 'bloodstream_infection',\n",
       "   'topic': 'MRSA',\n",
       "   'geography_type': 'Nation',\n",
       "   'geography': 'England',\n",
       "   'geography_code': 'E92000001',\n",
       "   'metric': 'MRSA_cases_countsByOnsetType',\n",
       "   'metric_group': 'cases',\n",
       "   'stratum': 'Unknown',\n",
       "   'sex': 'all',\n",
       "   'age': 'all',\n",
       "   'year': 2023,\n",
       "   'month': 6,\n",
       "   'epiweek': 26,\n",
       "   'date': '2023-06-30',\n",
       "   'metric_value': 0.0,\n",
       "   'in_reporting_delay_period': False},\n",
       "  {'theme': 'infectious_disease',\n",
       "   'sub_theme': 'bloodstream_infection',\n",
       "   'topic': 'MRSA',\n",
       "   'geography_type': 'Nation',\n",
       "   'geography': 'England',\n",
       "   'geography_code': 'E92000001',\n",
       "   'metric': 'MRSA_cases_countsByOnsetType',\n",
       "   'metric_group': 'cases',\n",
       "   'stratum': 'Community-onset, healthcare associated',\n",
       "   'sex': 'all',\n",
       "   'age': 'all',\n",
       "   'year': 2023,\n",
       "   'month': 6,\n",
       "   'epiweek': 26,\n",
       "   'date': '2023-06-30',\n",
       "   'metric_value': 11.0,\n",
       "   'in_reporting_delay_period': False},\n",
       "  {'theme': 'infectious_disease',\n",
       "   'sub_theme': 'bloodstream_infection',\n",
       "   'topic': 'MRSA',\n",
       "   'geography_type': 'Nation',\n",
       "   'geography': 'England',\n",
       "   'geography_code': 'E92000001',\n",
       "   'metric': 'MRSA_cases_countsByOnsetType',\n",
       "   'metric_group': 'cases',\n",
       "   'stratum': 'No information',\n",
       "   'sex': 'all',\n",
       "   'age': 'all',\n",
       "   'year': 2023,\n",
       "   'month': 6,\n",
       "   'epiweek': 26,\n",
       "   'date': '2023-06-30',\n",
       "   'metric_value': 0.0,\n",
       "   'in_reporting_delay_period': False},\n",
       "  {'theme': 'infectious_disease',\n",
       "   'sub_theme': 'bloodstream_infection',\n",
       "   'topic': 'MRSA',\n",
       "   'geography_type': 'Nation',\n",
       "   'geography': 'England',\n",
       "   'geography_code': 'E92000001',\n",
       "   'metric': 'MRSA_cases_countsByOnsetType',\n",
       "   'metric_group': 'cases',\n",
       "   'stratum': 'Community-onset, community associated',\n",
       "   'sex': 'all',\n",
       "   'age': 'all',\n",
       "   'year': 2023,\n",
       "   'month': 6,\n",
       "   'epiweek': 26,\n",
       "   'date': '2023-06-30',\n",
       "   'metric_value': 37.0,\n",
       "   'in_reporting_delay_period': False},\n",
       "  {'theme': 'infectious_disease',\n",
       "   'sub_theme': 'bloodstream_infection',\n",
       "   'topic': 'MRSA',\n",
       "   'geography_type': 'Nation',\n",
       "   'geography': 'England',\n",
       "   'geography_code': 'E92000001',\n",
       "   'metric': 'MRSA_cases_countsByOnsetType',\n",
       "   'metric_group': 'cases',\n",
       "   'stratum': 'Hospital-onset, healthcare associated',\n",
       "   'sex': 'all',\n",
       "   'age': 'all',\n",
       "   'year': 2023,\n",
       "   'month': 6,\n",
       "   'epiweek': 26,\n",
       "   'date': '2023-06-30',\n",
       "   'metric_value': 25.0,\n",
       "   'in_reporting_delay_period': False}]}"
      ]
     },
     "execution_count": 4,
     "metadata": {},
     "output_type": "execute_result"
    }
   ],
   "source": [
    "import requests\n",
    "requests.get(\"https://api.ukhsa-dashboard.data.gov.uk/themes/infectious_disease/sub_themes/bloodstream_infection/topics/MRSA/geography_types/Nation/geographies/England/metrics/MRSA_cases_countsByOnsetType\",\n",
    "            params={\"year\" : 2023}).json()"
   ]
  },
  {
   "cell_type": "code",
   "execution_count": 5,
   "id": "12d77cf4-3b23-4706-90ed-18e13df42de5",
   "metadata": {},
   "outputs": [],
   "source": [
    "import requests\n",
    "import time\n",
    "\n",
    "class APIwrapper:\n",
    "    # class variables shared among all instances\n",
    "    _access_point=\"https://api.ukhsa-dashboard.data.gov.uk\"\n",
    "    _last_access=0.0 # time of last api access\n",
    "    \n",
    "    def __init__(self, theme, sub_theme, topic, geography_type, geography, metric):\n",
    "        \"\"\" Init the APIwrapper object, constructing the endpoint from the structure\n",
    "        parameters \"\"\"\n",
    "        # build the path with all the required structure parameters\n",
    "        url_path=(f\"/themes/{theme}/sub_themes/{sub_theme}/topics/{topic}/geography_types/\" +\n",
    "                  f\"{geography_type}/geographies/{geography}/metrics/{metric}\")\n",
    "        # our starting API endpoint\n",
    "        self._start_url=APIwrapper._access_point+url_path\n",
    "        self._filters=None\n",
    "        self._page_size=-1\n",
    "        # will contain the number of items\n",
    "        self.count=None\n",
    "\n",
    "    def get_page(self, filters={}, page_size=5):\n",
    "        \"\"\" Access the API and download the next page of data. Sets the count\n",
    "        attribute to the total number of items available for this query. Changing\n",
    "        filters or page_size will cause get_page to restart from page 1. Rate\n",
    "        limited to three request per second. The page_size parameter sets the number\n",
    "        of data points in one response page (maximum 365); use the default value \n",
    "        for debugging your structure and filters, increase when you start looping \n",
    "        over all pages. \"\"\"\n",
    "        # Check page size is within range\n",
    "        if page_size>365:\n",
    "            raise ValueError(\"Max supported page size is 365\")\n",
    "        # restart from first page if page or filters have changed\n",
    "        if filters!=self._filters or page_size!=self._page_size:\n",
    "            self._filters=filters\n",
    "            self._page_size=page_size\n",
    "            self._next_url=self._start_url\n",
    "        # signal the end of data condition\n",
    "        if self._next_url==None: \n",
    "            return [] # we already fetched the last page\n",
    "        # simple rate limiting to avoid bans\n",
    "        curr_time=time.time() # Unix time: number of seconds since the Epoch\n",
    "        deltat=curr_time-APIwrapper._last_access\n",
    "        if deltat<0.33: # max 3 requests/second\n",
    "            time.sleep(0.33-deltat)\n",
    "        APIwrapper._last_access=curr_time\n",
    "        # build parameter dictionary by removing all the None\n",
    "        # values from filters and adding page_size\n",
    "        parameters={x: y for x, y in filters.items() if y!=None}\n",
    "        parameters['page_size']=page_size\n",
    "        # the page parameter is already included in _next_url.\n",
    "        # This is the API access. Response is a dictionary with various keys.\n",
    "        # the .json() method decodes the response into Python object (dictionaries,\n",
    "        # lists; 'null' values are translated as None).\n",
    "        response = requests.get(self._next_url, params=parameters).json()\n",
    "        # update url so we'll fetch the next page\n",
    "        self._next_url=response['next']\n",
    "        self.count=response['count']\n",
    "        # data are in the nested 'results' list\n",
    "        return response['results'] \n"
   ]
  },
  {
   "cell_type": "code",
   "execution_count": 6,
   "id": "1127c41c-eba2-489a-85e4-07ac87dd6351",
   "metadata": {},
   "outputs": [],
   "source": [
    "structure={\"theme\": \"infectious_disease\", \n",
    "           \"sub_theme\": \"bloodstream_infection\",\n",
    "           \"topic\": \"MRSA\",\n",
    "           \"geography_type\": \"Nation\", \n",
    "           \"geography\": \"England\"}"
   ]
  },
  {
   "cell_type": "code",
   "execution_count": 7,
   "id": "46435bc8-8ceb-4693-b399-8e2947b38f04",
   "metadata": {},
   "outputs": [],
   "source": [
    "structure[\"metric\"]=\"MRSA_cases_countsByOnsetType\" "
   ]
  },
  {
   "cell_type": "code",
   "execution_count": 8,
   "id": "862a3860-e2dc-463f-b19d-458589a207cc",
   "metadata": {},
   "outputs": [
    {
     "name": "stdout",
     "output_type": "stream",
     "text": [
      "90\n",
      "[{'theme': 'infectious_disease', 'sub_theme': 'bloodstream_infection', 'topic': 'MRSA', 'geography_type': 'Nation', 'geography': 'England', 'geography_code': 'E92000001', 'metric': 'MRSA_cases_countsByOnsetType', 'metric_group': 'cases', 'stratum': 'Hospital-onset, healthcare associated', 'sex': 'all', 'age': 'all', 'year': 2023, 'month': 6, 'epiweek': 26, 'date': '2023-06-30', 'metric_value': 25.0, 'in_reporting_delay_period': False}, {'theme': 'infectious_disease', 'sub_theme': 'bloodstream_infection', 'topic': 'MRSA', 'geography_type': 'Nation', 'geography': 'England', 'geography_code': 'E92000001', 'metric': 'MRSA_cases_countsByOnsetType', 'metric_group': 'cases', 'stratum': 'Total cases', 'sex': 'all', 'age': 'all', 'year': 2023, 'month': 6, 'epiweek': 26, 'date': '2023-06-30', 'metric_value': 73.0, 'in_reporting_delay_period': False}, {'theme': 'infectious_disease', 'sub_theme': 'bloodstream_infection', 'topic': 'MRSA', 'geography_type': 'Nation', 'geography': 'England', 'geography_code': 'E92000001', 'metric': 'MRSA_cases_countsByOnsetType', 'metric_group': 'cases', 'stratum': 'Unknown', 'sex': 'all', 'age': 'all', 'year': 2023, 'month': 6, 'epiweek': 26, 'date': '2023-06-30', 'metric_value': 0.0, 'in_reporting_delay_period': False}, {'theme': 'infectious_disease', 'sub_theme': 'bloodstream_infection', 'topic': 'MRSA', 'geography_type': 'Nation', 'geography': 'England', 'geography_code': 'E92000001', 'metric': 'MRSA_cases_countsByOnsetType', 'metric_group': 'cases', 'stratum': 'Community-onset, healthcare associated', 'sex': 'all', 'age': 'all', 'year': 2023, 'month': 6, 'epiweek': 26, 'date': '2023-06-30', 'metric_value': 11.0, 'in_reporting_delay_period': False}, {'theme': 'infectious_disease', 'sub_theme': 'bloodstream_infection', 'topic': 'MRSA', 'geography_type': 'Nation', 'geography': 'England', 'geography_code': 'E92000001', 'metric': 'MRSA_cases_countsByOnsetType', 'metric_group': 'cases', 'stratum': 'No information', 'sex': 'all', 'age': 'all', 'year': 2023, 'month': 6, 'epiweek': 26, 'date': '2023-06-30', 'metric_value': 0.0, 'in_reporting_delay_period': False}]\n"
     ]
    }
   ],
   "source": [
    "api=APIwrapper(**structure)\n",
    "data=api.get_page() # default size is 5\n",
    "print(api.count)\n",
    "print(data)"
   ]
  },
  {
   "cell_type": "code",
   "execution_count": 9,
   "id": "c58cb0cc-41b3-411b-9082-6cfbba4dad7a",
   "metadata": {},
   "outputs": [],
   "source": [
    "filters={\"stratum\" : None, # Smallest subgroup a metric can be broken down into e.g. ethnicity, testing pillar\n",
    "         \"age\": None, # Smallest subgroup a metric can be broken down into e.g. 15_44 for the age group of 15-44 years\n",
    "         \"sex\": None, #  Patient gender e.g. 'm' for Male, 'f' for Female or 'all' for all genders\n",
    "         \"year\": 2023, #  Epi year of the metrics value (important for annual metrics) e.g. 2020\n",
    "         \"month\": None, # Epi month of the metric value (important for monthly metrics) e.g. 12\n",
    "         \"epiweek\" :None, # Epi week of the metric value (important for weekly metrics) e.g. 30\n",
    "         \"date\" : None, # The date which this metric value was recorded in the format YYYY-MM-DD e.g. 2020-07-20\n",
    "         \"in_reporting_delay_period\": None # Boolean indicating whether the data point is considered to be subject to retrospective updates\n",
    "        }"
   ]
  },
  {
   "cell_type": "code",
   "execution_count": 10,
   "id": "fe87917c-1b01-4363-a745-19c90bc52dcd",
   "metadata": {},
   "outputs": [
    {
     "name": "stdout",
     "output_type": "stream",
     "text": [
      "42\n",
      "[{'theme': 'infectious_disease', 'sub_theme': 'bloodstream_infection', 'topic': 'MRSA', 'geography_type': 'Nation', 'geography': 'England', 'geography_code': 'E92000001', 'metric': 'MRSA_cases_countsByOnsetType', 'metric_group': 'cases', 'stratum': 'Unknown', 'sex': 'all', 'age': 'all', 'year': 2023, 'month': 6, 'epiweek': 26, 'date': '2023-06-30', 'metric_value': 0.0, 'in_reporting_delay_period': False}, {'theme': 'infectious_disease', 'sub_theme': 'bloodstream_infection', 'topic': 'MRSA', 'geography_type': 'Nation', 'geography': 'England', 'geography_code': 'E92000001', 'metric': 'MRSA_cases_countsByOnsetType', 'metric_group': 'cases', 'stratum': 'Community-onset, healthcare associated', 'sex': 'all', 'age': 'all', 'year': 2023, 'month': 6, 'epiweek': 26, 'date': '2023-06-30', 'metric_value': 11.0, 'in_reporting_delay_period': False}, {'theme': 'infectious_disease', 'sub_theme': 'bloodstream_infection', 'topic': 'MRSA', 'geography_type': 'Nation', 'geography': 'England', 'geography_code': 'E92000001', 'metric': 'MRSA_cases_countsByOnsetType', 'metric_group': 'cases', 'stratum': 'No information', 'sex': 'all', 'age': 'all', 'year': 2023, 'month': 6, 'epiweek': 26, 'date': '2023-06-30', 'metric_value': 0.0, 'in_reporting_delay_period': False}]\n"
     ]
    }
   ],
   "source": [
    "data_2023=api.get_page(filters, page_size=3)\n",
    "print(api.count)\n",
    "print(data_2023)"
   ]
  },
  {
   "cell_type": "code",
   "execution_count": 11,
   "id": "c82d9590-7ac2-48de-a88d-6ee7b86aa029",
   "metadata": {},
   "outputs": [
    {
     "name": "stdout",
     "output_type": "stream",
     "text": [
      "Pages retrieved: 1\n",
      "Pages retrieved: 2\n",
      "Data points expected: 90\n",
      "Data points retrieved: 90\n"
     ]
    }
   ],
   "source": [
    "structure[\"metric\"]=\"MRSA_cases_countsByOnsetType\"\n",
    "api=APIwrapper(**structure)\n",
    "cases=[]\n",
    "page=1\n",
    "while True:\n",
    "    data=api.get_page(page_size=365)\n",
    "    print(f\"Pages retrieved: {page}\")\n",
    "    if data==[]:\n",
    "        break\n",
    "    cases.extend(data)\n",
    "    page+=1\n",
    "print(f\"Data points expected: {api.count}\")\n",
    "print(f\"Data points retrieved: {len(cases)}\")"
   ]
  },
  {
   "cell_type": "code",
   "execution_count": 12,
   "id": "07e5dca4-7896-43f4-ac99-a5d5df78f35b",
   "metadata": {},
   "outputs": [],
   "source": [
    "structure[\"metric\"]=\"MRSA_cases_countsByOnsetType\"\n",
    "# the structure has changed, so we need to create a new object\n",
    "api=APIwrapper(**structure)\n",
    "admissions=[]\n",
    "while True:\n",
    "    data=api.get_page(page_size=365)\n",
    "    if data==[]:\n",
    "        break\n",
    "    admissions.extend(data)\n"
   ]
  },
  {
   "cell_type": "code",
   "execution_count": 13,
   "id": "c413d620-f0be-4739-a069-181b8d5363a6",
   "metadata": {},
   "outputs": [],
   "source": [
    "structure[\"metric\"]=\"MRSA_cases_countsByOnsetType\"\n",
    "api=APIwrapper(**structure)\n",
    "deaths=[]\n",
    "while True:\n",
    "    data=api.get_page(page_size=365)\n",
    "    if data==[]:\n",
    "        break\n",
    "    deaths.extend(data)"
   ]
  },
  {
   "cell_type": "code",
   "execution_count": 14,
   "id": "23e0a51e-3750-46f7-bde4-7225b9ecbcc8",
   "metadata": {},
   "outputs": [
    {
     "name": "stdout",
     "output_type": "stream",
     "text": [
      "[{'theme': 'infectious_disease', 'sub_theme': 'bloodstream_infection', 'topic': 'MRSA', 'geography_type': 'Nation', 'geography': 'England', 'geography_code': 'E92000001', 'metric': 'MRSA_cases_countsByOnsetType', 'metric_group': 'cases', 'stratum': 'Hospital-onset, healthcare associated', 'sex': 'all', 'age': 'all', 'year': 2023, 'month': 6, 'epiweek': 26, 'date': '2023-06-30', 'metric_value': 25.0, 'in_reporting_delay_period': False}, {'theme': 'infectious_disease', 'sub_theme': 'bloodstream_infection', 'topic': 'MRSA', 'geography_type': 'Nation', 'geography': 'England', 'geography_code': 'E92000001', 'metric': 'MRSA_cases_countsByOnsetType', 'metric_group': 'cases', 'stratum': 'Total cases', 'sex': 'all', 'age': 'all', 'year': 2023, 'month': 6, 'epiweek': 26, 'date': '2023-06-30', 'metric_value': 73.0, 'in_reporting_delay_period': False}, {'theme': 'infectious_disease', 'sub_theme': 'bloodstream_infection', 'topic': 'MRSA', 'geography_type': 'Nation', 'geography': 'England', 'geography_code': 'E92000001', 'metric': 'MRSA_cases_countsByOnsetType', 'metric_group': 'cases', 'stratum': 'Unknown', 'sex': 'all', 'age': 'all', 'year': 2023, 'month': 6, 'epiweek': 26, 'date': '2023-06-30', 'metric_value': 0.0, 'in_reporting_delay_period': False}, {'theme': 'infectious_disease', 'sub_theme': 'bloodstream_infection', 'topic': 'MRSA', 'geography_type': 'Nation', 'geography': 'England', 'geography_code': 'E92000001', 'metric': 'MRSA_cases_countsByOnsetType', 'metric_group': 'cases', 'stratum': 'Community-onset, healthcare associated', 'sex': 'all', 'age': 'all', 'year': 2023, 'month': 6, 'epiweek': 26, 'date': '2023-06-30', 'metric_value': 11.0, 'in_reporting_delay_period': False}, {'theme': 'infectious_disease', 'sub_theme': 'bloodstream_infection', 'topic': 'MRSA', 'geography_type': 'Nation', 'geography': 'England', 'geography_code': 'E92000001', 'metric': 'MRSA_cases_countsByOnsetType', 'metric_group': 'cases', 'stratum': 'No information', 'sex': 'all', 'age': 'all', 'year': 2023, 'month': 6, 'epiweek': 26, 'date': '2023-06-30', 'metric_value': 0.0, 'in_reporting_delay_period': False}, {'theme': 'infectious_disease', 'sub_theme': 'bloodstream_infection', 'topic': 'MRSA', 'geography_type': 'Nation', 'geography': 'England', 'geography_code': 'E92000001', 'metric': 'MRSA_cases_countsByOnsetType', 'metric_group': 'cases', 'stratum': 'Community-onset, community associated', 'sex': 'all', 'age': 'all', 'year': 2023, 'month': 6, 'epiweek': 26, 'date': '2023-06-30', 'metric_value': 37.0, 'in_reporting_delay_period': False}, {'theme': 'infectious_disease', 'sub_theme': 'bloodstream_infection', 'topic': 'MRSA', 'geography_type': 'Nation', 'geography': 'England', 'geography_code': 'E92000001', 'metric': 'MRSA_cases_countsByOnsetType', 'metric_group': 'cases', 'stratum': 'Community-onset, community associated', 'sex': 'all', 'age': 'all', 'year': 2023, 'month': 7, 'epiweek': 31, 'date': '2023-07-31', 'metric_value': 38.0, 'in_reporting_delay_period': False}, {'theme': 'infectious_disease', 'sub_theme': 'bloodstream_infection', 'topic': 'MRSA', 'geography_type': 'Nation', 'geography': 'England', 'geography_code': 'E92000001', 'metric': 'MRSA_cases_countsByOnsetType', 'metric_group': 'cases', 'stratum': 'Unknown', 'sex': 'all', 'age': 'all', 'year': 2023, 'month': 7, 'epiweek': 31, 'date': '2023-07-31', 'metric_value': 1.0, 'in_reporting_delay_period': False}, {'theme': 'infectious_disease', 'sub_theme': 'bloodstream_infection', 'topic': 'MRSA', 'geography_type': 'Nation', 'geography': 'England', 'geography_code': 'E92000001', 'metric': 'MRSA_cases_countsByOnsetType', 'metric_group': 'cases', 'stratum': 'Total cases', 'sex': 'all', 'age': 'all', 'year': 2023, 'month': 7, 'epiweek': 31, 'date': '2023-07-31', 'metric_value': 78.0, 'in_reporting_delay_period': False}, {'theme': 'infectious_disease', 'sub_theme': 'bloodstream_infection', 'topic': 'MRSA', 'geography_type': 'Nation', 'geography': 'England', 'geography_code': 'E92000001', 'metric': 'MRSA_cases_countsByOnsetType', 'metric_group': 'cases', 'stratum': 'Community-onset, healthcare associated', 'sex': 'all', 'age': 'all', 'year': 2023, 'month': 7, 'epiweek': 31, 'date': '2023-07-31', 'metric_value': 8.0, 'in_reporting_delay_period': False}, {'theme': 'infectious_disease', 'sub_theme': 'bloodstream_infection', 'topic': 'MRSA', 'geography_type': 'Nation', 'geography': 'England', 'geography_code': 'E92000001', 'metric': 'MRSA_cases_countsByOnsetType', 'metric_group': 'cases', 'stratum': 'No information', 'sex': 'all', 'age': 'all', 'year': 2023, 'month': 7, 'epiweek': 31, 'date': '2023-07-31', 'metric_value': 0.0, 'in_reporting_delay_period': False}, {'theme': 'infectious_disease', 'sub_theme': 'bloodstream_infection', 'topic': 'MRSA', 'geography_type': 'Nation', 'geography': 'England', 'geography_code': 'E92000001', 'metric': 'MRSA_cases_countsByOnsetType', 'metric_group': 'cases', 'stratum': 'Hospital-onset, healthcare associated', 'sex': 'all', 'age': 'all', 'year': 2023, 'month': 7, 'epiweek': 31, 'date': '2023-07-31', 'metric_value': 31.0, 'in_reporting_delay_period': False}, {'theme': 'infectious_disease', 'sub_theme': 'bloodstream_infection', 'topic': 'MRSA', 'geography_type': 'Nation', 'geography': 'England', 'geography_code': 'E92000001', 'metric': 'MRSA_cases_countsByOnsetType', 'metric_group': 'cases', 'stratum': 'Community-onset, community associated', 'sex': 'all', 'age': 'all', 'year': 2023, 'month': 8, 'epiweek': 35, 'date': '2023-08-31', 'metric_value': 34.0, 'in_reporting_delay_period': False}, {'theme': 'infectious_disease', 'sub_theme': 'bloodstream_infection', 'topic': 'MRSA', 'geography_type': 'Nation', 'geography': 'England', 'geography_code': 'E92000001', 'metric': 'MRSA_cases_countsByOnsetType', 'metric_group': 'cases', 'stratum': 'Unknown', 'sex': 'all', 'age': 'all', 'year': 2023, 'month': 8, 'epiweek': 35, 'date': '2023-08-31', 'metric_value': 0.0, 'in_reporting_delay_period': False}, {'theme': 'infectious_disease', 'sub_theme': 'bloodstream_infection', 'topic': 'MRSA', 'geography_type': 'Nation', 'geography': 'England', 'geography_code': 'E92000001', 'metric': 'MRSA_cases_countsByOnsetType', 'metric_group': 'cases', 'stratum': 'Hospital-onset, healthcare associated', 'sex': 'all', 'age': 'all', 'year': 2023, 'month': 8, 'epiweek': 35, 'date': '2023-08-31', 'metric_value': 22.0, 'in_reporting_delay_period': False}, {'theme': 'infectious_disease', 'sub_theme': 'bloodstream_infection', 'topic': 'MRSA', 'geography_type': 'Nation', 'geography': 'England', 'geography_code': 'E92000001', 'metric': 'MRSA_cases_countsByOnsetType', 'metric_group': 'cases', 'stratum': 'Community-onset, healthcare associated', 'sex': 'all', 'age': 'all', 'year': 2023, 'month': 8, 'epiweek': 35, 'date': '2023-08-31', 'metric_value': 7.0, 'in_reporting_delay_period': False}, {'theme': 'infectious_disease', 'sub_theme': 'bloodstream_infection', 'topic': 'MRSA', 'geography_type': 'Nation', 'geography': 'England', 'geography_code': 'E92000001', 'metric': 'MRSA_cases_countsByOnsetType', 'metric_group': 'cases', 'stratum': 'No information', 'sex': 'all', 'age': 'all', 'year': 2023, 'month': 8, 'epiweek': 35, 'date': '2023-08-31', 'metric_value': 0.0, 'in_reporting_delay_period': False}, {'theme': 'infectious_disease', 'sub_theme': 'bloodstream_infection', 'topic': 'MRSA', 'geography_type': 'Nation', 'geography': 'England', 'geography_code': 'E92000001', 'metric': 'MRSA_cases_countsByOnsetType', 'metric_group': 'cases', 'stratum': 'Total cases', 'sex': 'all', 'age': 'all', 'year': 2023, 'month': 8, 'epiweek': 35, 'date': '2023-08-31', 'metric_value': 63.0, 'in_reporting_delay_period': False}, {'theme': 'infectious_disease', 'sub_theme': 'bloodstream_infection', 'topic': 'MRSA', 'geography_type': 'Nation', 'geography': 'England', 'geography_code': 'E92000001', 'metric': 'MRSA_cases_countsByOnsetType', 'metric_group': 'cases', 'stratum': 'Community-onset, healthcare associated', 'sex': 'all', 'age': 'all', 'year': 2023, 'month': 9, 'epiweek': 39, 'date': '2023-09-30', 'metric_value': 7.0, 'in_reporting_delay_period': False}, {'theme': 'infectious_disease', 'sub_theme': 'bloodstream_infection', 'topic': 'MRSA', 'geography_type': 'Nation', 'geography': 'England', 'geography_code': 'E92000001', 'metric': 'MRSA_cases_countsByOnsetType', 'metric_group': 'cases', 'stratum': 'Community-onset, community associated', 'sex': 'all', 'age': 'all', 'year': 2023, 'month': 9, 'epiweek': 39, 'date': '2023-09-30', 'metric_value': 30.0, 'in_reporting_delay_period': False}, {'theme': 'infectious_disease', 'sub_theme': 'bloodstream_infection', 'topic': 'MRSA', 'geography_type': 'Nation', 'geography': 'England', 'geography_code': 'E92000001', 'metric': 'MRSA_cases_countsByOnsetType', 'metric_group': 'cases', 'stratum': 'No information', 'sex': 'all', 'age': 'all', 'year': 2023, 'month': 9, 'epiweek': 39, 'date': '2023-09-30', 'metric_value': 0.0, 'in_reporting_delay_period': False}, {'theme': 'infectious_disease', 'sub_theme': 'bloodstream_infection', 'topic': 'MRSA', 'geography_type': 'Nation', 'geography': 'England', 'geography_code': 'E92000001', 'metric': 'MRSA_cases_countsByOnsetType', 'metric_group': 'cases', 'stratum': 'Unknown', 'sex': 'all', 'age': 'all', 'year': 2023, 'month': 9, 'epiweek': 39, 'date': '2023-09-30', 'metric_value': 0.0, 'in_reporting_delay_period': False}, {'theme': 'infectious_disease', 'sub_theme': 'bloodstream_infection', 'topic': 'MRSA', 'geography_type': 'Nation', 'geography': 'England', 'geography_code': 'E92000001', 'metric': 'MRSA_cases_countsByOnsetType', 'metric_group': 'cases', 'stratum': 'Hospital-onset, healthcare associated', 'sex': 'all', 'age': 'all', 'year': 2023, 'month': 9, 'epiweek': 39, 'date': '2023-09-30', 'metric_value': 26.0, 'in_reporting_delay_period': False}, {'theme': 'infectious_disease', 'sub_theme': 'bloodstream_infection', 'topic': 'MRSA', 'geography_type': 'Nation', 'geography': 'England', 'geography_code': 'E92000001', 'metric': 'MRSA_cases_countsByOnsetType', 'metric_group': 'cases', 'stratum': 'Total cases', 'sex': 'all', 'age': 'all', 'year': 2023, 'month': 9, 'epiweek': 39, 'date': '2023-09-30', 'metric_value': 63.0, 'in_reporting_delay_period': False}, {'theme': 'infectious_disease', 'sub_theme': 'bloodstream_infection', 'topic': 'MRSA', 'geography_type': 'Nation', 'geography': 'England', 'geography_code': 'E92000001', 'metric': 'MRSA_cases_countsByOnsetType', 'metric_group': 'cases', 'stratum': 'No information', 'sex': 'all', 'age': 'all', 'year': 2023, 'month': 10, 'epiweek': 44, 'date': '2023-10-31', 'metric_value': 0.0, 'in_reporting_delay_period': False}, {'theme': 'infectious_disease', 'sub_theme': 'bloodstream_infection', 'topic': 'MRSA', 'geography_type': 'Nation', 'geography': 'England', 'geography_code': 'E92000001', 'metric': 'MRSA_cases_countsByOnsetType', 'metric_group': 'cases', 'stratum': 'Community-onset, community associated', 'sex': 'all', 'age': 'all', 'year': 2023, 'month': 10, 'epiweek': 44, 'date': '2023-10-31', 'metric_value': 49.0, 'in_reporting_delay_period': False}, {'theme': 'infectious_disease', 'sub_theme': 'bloodstream_infection', 'topic': 'MRSA', 'geography_type': 'Nation', 'geography': 'England', 'geography_code': 'E92000001', 'metric': 'MRSA_cases_countsByOnsetType', 'metric_group': 'cases', 'stratum': 'Unknown', 'sex': 'all', 'age': 'all', 'year': 2023, 'month': 10, 'epiweek': 44, 'date': '2023-10-31', 'metric_value': 1.0, 'in_reporting_delay_period': False}, {'theme': 'infectious_disease', 'sub_theme': 'bloodstream_infection', 'topic': 'MRSA', 'geography_type': 'Nation', 'geography': 'England', 'geography_code': 'E92000001', 'metric': 'MRSA_cases_countsByOnsetType', 'metric_group': 'cases', 'stratum': 'Community-onset, healthcare associated', 'sex': 'all', 'age': 'all', 'year': 2023, 'month': 10, 'epiweek': 44, 'date': '2023-10-31', 'metric_value': 11.0, 'in_reporting_delay_period': False}, {'theme': 'infectious_disease', 'sub_theme': 'bloodstream_infection', 'topic': 'MRSA', 'geography_type': 'Nation', 'geography': 'England', 'geography_code': 'E92000001', 'metric': 'MRSA_cases_countsByOnsetType', 'metric_group': 'cases', 'stratum': 'Total cases', 'sex': 'all', 'age': 'all', 'year': 2023, 'month': 10, 'epiweek': 44, 'date': '2023-10-31', 'metric_value': 96.0, 'in_reporting_delay_period': False}, {'theme': 'infectious_disease', 'sub_theme': 'bloodstream_infection', 'topic': 'MRSA', 'geography_type': 'Nation', 'geography': 'England', 'geography_code': 'E92000001', 'metric': 'MRSA_cases_countsByOnsetType', 'metric_group': 'cases', 'stratum': 'Hospital-onset, healthcare associated', 'sex': 'all', 'age': 'all', 'year': 2023, 'month': 10, 'epiweek': 44, 'date': '2023-10-31', 'metric_value': 35.0, 'in_reporting_delay_period': False}, {'theme': 'infectious_disease', 'sub_theme': 'bloodstream_infection', 'topic': 'MRSA', 'geography_type': 'Nation', 'geography': 'England', 'geography_code': 'E92000001', 'metric': 'MRSA_cases_countsByOnsetType', 'metric_group': 'cases', 'stratum': 'Community-onset, healthcare associated', 'sex': 'all', 'age': 'all', 'year': 2023, 'month': 11, 'epiweek': 48, 'date': '2023-11-30', 'metric_value': 15.0, 'in_reporting_delay_period': False}, {'theme': 'infectious_disease', 'sub_theme': 'bloodstream_infection', 'topic': 'MRSA', 'geography_type': 'Nation', 'geography': 'England', 'geography_code': 'E92000001', 'metric': 'MRSA_cases_countsByOnsetType', 'metric_group': 'cases', 'stratum': 'Unknown', 'sex': 'all', 'age': 'all', 'year': 2023, 'month': 11, 'epiweek': 48, 'date': '2023-11-30', 'metric_value': 0.0, 'in_reporting_delay_period': False}, {'theme': 'infectious_disease', 'sub_theme': 'bloodstream_infection', 'topic': 'MRSA', 'geography_type': 'Nation', 'geography': 'England', 'geography_code': 'E92000001', 'metric': 'MRSA_cases_countsByOnsetType', 'metric_group': 'cases', 'stratum': 'Community-onset, community associated', 'sex': 'all', 'age': 'all', 'year': 2023, 'month': 11, 'epiweek': 48, 'date': '2023-11-30', 'metric_value': 40.0, 'in_reporting_delay_period': False}, {'theme': 'infectious_disease', 'sub_theme': 'bloodstream_infection', 'topic': 'MRSA', 'geography_type': 'Nation', 'geography': 'England', 'geography_code': 'E92000001', 'metric': 'MRSA_cases_countsByOnsetType', 'metric_group': 'cases', 'stratum': 'Hospital-onset, healthcare associated', 'sex': 'all', 'age': 'all', 'year': 2023, 'month': 11, 'epiweek': 48, 'date': '2023-11-30', 'metric_value': 23.0, 'in_reporting_delay_period': False}, {'theme': 'infectious_disease', 'sub_theme': 'bloodstream_infection', 'topic': 'MRSA', 'geography_type': 'Nation', 'geography': 'England', 'geography_code': 'E92000001', 'metric': 'MRSA_cases_countsByOnsetType', 'metric_group': 'cases', 'stratum': 'No information', 'sex': 'all', 'age': 'all', 'year': 2023, 'month': 11, 'epiweek': 48, 'date': '2023-11-30', 'metric_value': 0.0, 'in_reporting_delay_period': False}, {'theme': 'infectious_disease', 'sub_theme': 'bloodstream_infection', 'topic': 'MRSA', 'geography_type': 'Nation', 'geography': 'England', 'geography_code': 'E92000001', 'metric': 'MRSA_cases_countsByOnsetType', 'metric_group': 'cases', 'stratum': 'Total cases', 'sex': 'all', 'age': 'all', 'year': 2023, 'month': 11, 'epiweek': 48, 'date': '2023-11-30', 'metric_value': 78.0, 'in_reporting_delay_period': False}, {'theme': 'infectious_disease', 'sub_theme': 'bloodstream_infection', 'topic': 'MRSA', 'geography_type': 'Nation', 'geography': 'England', 'geography_code': 'E92000001', 'metric': 'MRSA_cases_countsByOnsetType', 'metric_group': 'cases', 'stratum': 'Hospital-onset, healthcare associated', 'sex': 'all', 'age': 'all', 'year': 2023, 'month': 12, 'epiweek': 52, 'date': '2023-12-31', 'metric_value': 38.0, 'in_reporting_delay_period': False}, {'theme': 'infectious_disease', 'sub_theme': 'bloodstream_infection', 'topic': 'MRSA', 'geography_type': 'Nation', 'geography': 'England', 'geography_code': 'E92000001', 'metric': 'MRSA_cases_countsByOnsetType', 'metric_group': 'cases', 'stratum': 'Community-onset, healthcare associated', 'sex': 'all', 'age': 'all', 'year': 2023, 'month': 12, 'epiweek': 52, 'date': '2023-12-31', 'metric_value': 10.0, 'in_reporting_delay_period': False}, {'theme': 'infectious_disease', 'sub_theme': 'bloodstream_infection', 'topic': 'MRSA', 'geography_type': 'Nation', 'geography': 'England', 'geography_code': 'E92000001', 'metric': 'MRSA_cases_countsByOnsetType', 'metric_group': 'cases', 'stratum': 'Total cases', 'sex': 'all', 'age': 'all', 'year': 2023, 'month': 12, 'epiweek': 52, 'date': '2023-12-31', 'metric_value': 80.0, 'in_reporting_delay_period': False}, {'theme': 'infectious_disease', 'sub_theme': 'bloodstream_infection', 'topic': 'MRSA', 'geography_type': 'Nation', 'geography': 'England', 'geography_code': 'E92000001', 'metric': 'MRSA_cases_countsByOnsetType', 'metric_group': 'cases', 'stratum': 'Unknown', 'sex': 'all', 'age': 'all', 'year': 2023, 'month': 12, 'epiweek': 52, 'date': '2023-12-31', 'metric_value': 1.0, 'in_reporting_delay_period': False}, {'theme': 'infectious_disease', 'sub_theme': 'bloodstream_infection', 'topic': 'MRSA', 'geography_type': 'Nation', 'geography': 'England', 'geography_code': 'E92000001', 'metric': 'MRSA_cases_countsByOnsetType', 'metric_group': 'cases', 'stratum': 'Community-onset, community associated', 'sex': 'all', 'age': 'all', 'year': 2023, 'month': 12, 'epiweek': 52, 'date': '2023-12-31', 'metric_value': 31.0, 'in_reporting_delay_period': False}, {'theme': 'infectious_disease', 'sub_theme': 'bloodstream_infection', 'topic': 'MRSA', 'geography_type': 'Nation', 'geography': 'England', 'geography_code': 'E92000001', 'metric': 'MRSA_cases_countsByOnsetType', 'metric_group': 'cases', 'stratum': 'No information', 'sex': 'all', 'age': 'all', 'year': 2023, 'month': 12, 'epiweek': 52, 'date': '2023-12-31', 'metric_value': 0.0, 'in_reporting_delay_period': False}, {'theme': 'infectious_disease', 'sub_theme': 'bloodstream_infection', 'topic': 'MRSA', 'geography_type': 'Nation', 'geography': 'England', 'geography_code': 'E92000001', 'metric': 'MRSA_cases_countsByOnsetType', 'metric_group': 'cases', 'stratum': 'Total cases', 'sex': 'all', 'age': 'all', 'year': 2024, 'month': 1, 'epiweek': 5, 'date': '2024-01-31', 'metric_value': 88.0, 'in_reporting_delay_period': False}, {'theme': 'infectious_disease', 'sub_theme': 'bloodstream_infection', 'topic': 'MRSA', 'geography_type': 'Nation', 'geography': 'England', 'geography_code': 'E92000001', 'metric': 'MRSA_cases_countsByOnsetType', 'metric_group': 'cases', 'stratum': 'Community-onset, community associated', 'sex': 'all', 'age': 'all', 'year': 2024, 'month': 1, 'epiweek': 5, 'date': '2024-01-31', 'metric_value': 36.0, 'in_reporting_delay_period': False}, {'theme': 'infectious_disease', 'sub_theme': 'bloodstream_infection', 'topic': 'MRSA', 'geography_type': 'Nation', 'geography': 'England', 'geography_code': 'E92000001', 'metric': 'MRSA_cases_countsByOnsetType', 'metric_group': 'cases', 'stratum': 'Community-onset, healthcare associated', 'sex': 'all', 'age': 'all', 'year': 2024, 'month': 1, 'epiweek': 5, 'date': '2024-01-31', 'metric_value': 12.0, 'in_reporting_delay_period': False}, {'theme': 'infectious_disease', 'sub_theme': 'bloodstream_infection', 'topic': 'MRSA', 'geography_type': 'Nation', 'geography': 'England', 'geography_code': 'E92000001', 'metric': 'MRSA_cases_countsByOnsetType', 'metric_group': 'cases', 'stratum': 'Hospital-onset, healthcare associated', 'sex': 'all', 'age': 'all', 'year': 2024, 'month': 1, 'epiweek': 5, 'date': '2024-01-31', 'metric_value': 40.0, 'in_reporting_delay_period': False}, {'theme': 'infectious_disease', 'sub_theme': 'bloodstream_infection', 'topic': 'MRSA', 'geography_type': 'Nation', 'geography': 'England', 'geography_code': 'E92000001', 'metric': 'MRSA_cases_countsByOnsetType', 'metric_group': 'cases', 'stratum': 'No information', 'sex': 'all', 'age': 'all', 'year': 2024, 'month': 1, 'epiweek': 5, 'date': '2024-01-31', 'metric_value': 0.0, 'in_reporting_delay_period': False}, {'theme': 'infectious_disease', 'sub_theme': 'bloodstream_infection', 'topic': 'MRSA', 'geography_type': 'Nation', 'geography': 'England', 'geography_code': 'E92000001', 'metric': 'MRSA_cases_countsByOnsetType', 'metric_group': 'cases', 'stratum': 'Unknown', 'sex': 'all', 'age': 'all', 'year': 2024, 'month': 1, 'epiweek': 5, 'date': '2024-01-31', 'metric_value': 0.0, 'in_reporting_delay_period': False}, {'theme': 'infectious_disease', 'sub_theme': 'bloodstream_infection', 'topic': 'MRSA', 'geography_type': 'Nation', 'geography': 'England', 'geography_code': 'E92000001', 'metric': 'MRSA_cases_countsByOnsetType', 'metric_group': 'cases', 'stratum': 'Total cases', 'sex': 'all', 'age': 'all', 'year': 2024, 'month': 2, 'epiweek': 9, 'date': '2024-02-29', 'metric_value': 83.0, 'in_reporting_delay_period': False}, {'theme': 'infectious_disease', 'sub_theme': 'bloodstream_infection', 'topic': 'MRSA', 'geography_type': 'Nation', 'geography': 'England', 'geography_code': 'E92000001', 'metric': 'MRSA_cases_countsByOnsetType', 'metric_group': 'cases', 'stratum': 'Community-onset, community associated', 'sex': 'all', 'age': 'all', 'year': 2024, 'month': 2, 'epiweek': 9, 'date': '2024-02-29', 'metric_value': 37.0, 'in_reporting_delay_period': False}, {'theme': 'infectious_disease', 'sub_theme': 'bloodstream_infection', 'topic': 'MRSA', 'geography_type': 'Nation', 'geography': 'England', 'geography_code': 'E92000001', 'metric': 'MRSA_cases_countsByOnsetType', 'metric_group': 'cases', 'stratum': 'Unknown', 'sex': 'all', 'age': 'all', 'year': 2024, 'month': 2, 'epiweek': 9, 'date': '2024-02-29', 'metric_value': 0.0, 'in_reporting_delay_period': False}, {'theme': 'infectious_disease', 'sub_theme': 'bloodstream_infection', 'topic': 'MRSA', 'geography_type': 'Nation', 'geography': 'England', 'geography_code': 'E92000001', 'metric': 'MRSA_cases_countsByOnsetType', 'metric_group': 'cases', 'stratum': 'Community-onset, healthcare associated', 'sex': 'all', 'age': 'all', 'year': 2024, 'month': 2, 'epiweek': 9, 'date': '2024-02-29', 'metric_value': 16.0, 'in_reporting_delay_period': False}, {'theme': 'infectious_disease', 'sub_theme': 'bloodstream_infection', 'topic': 'MRSA', 'geography_type': 'Nation', 'geography': 'England', 'geography_code': 'E92000001', 'metric': 'MRSA_cases_countsByOnsetType', 'metric_group': 'cases', 'stratum': 'Hospital-onset, healthcare associated', 'sex': 'all', 'age': 'all', 'year': 2024, 'month': 2, 'epiweek': 9, 'date': '2024-02-29', 'metric_value': 30.0, 'in_reporting_delay_period': False}, {'theme': 'infectious_disease', 'sub_theme': 'bloodstream_infection', 'topic': 'MRSA', 'geography_type': 'Nation', 'geography': 'England', 'geography_code': 'E92000001', 'metric': 'MRSA_cases_countsByOnsetType', 'metric_group': 'cases', 'stratum': 'No information', 'sex': 'all', 'age': 'all', 'year': 2024, 'month': 2, 'epiweek': 9, 'date': '2024-02-29', 'metric_value': 0.0, 'in_reporting_delay_period': False}, {'theme': 'infectious_disease', 'sub_theme': 'bloodstream_infection', 'topic': 'MRSA', 'geography_type': 'Nation', 'geography': 'England', 'geography_code': 'E92000001', 'metric': 'MRSA_cases_countsByOnsetType', 'metric_group': 'cases', 'stratum': 'Community-onset, healthcare associated', 'sex': 'all', 'age': 'all', 'year': 2024, 'month': 3, 'epiweek': 13, 'date': '2024-03-31', 'metric_value': 13.0, 'in_reporting_delay_period': False}, {'theme': 'infectious_disease', 'sub_theme': 'bloodstream_infection', 'topic': 'MRSA', 'geography_type': 'Nation', 'geography': 'England', 'geography_code': 'E92000001', 'metric': 'MRSA_cases_countsByOnsetType', 'metric_group': 'cases', 'stratum': 'Hospital-onset, healthcare associated', 'sex': 'all', 'age': 'all', 'year': 2024, 'month': 3, 'epiweek': 13, 'date': '2024-03-31', 'metric_value': 26.0, 'in_reporting_delay_period': False}, {'theme': 'infectious_disease', 'sub_theme': 'bloodstream_infection', 'topic': 'MRSA', 'geography_type': 'Nation', 'geography': 'England', 'geography_code': 'E92000001', 'metric': 'MRSA_cases_countsByOnsetType', 'metric_group': 'cases', 'stratum': 'No information', 'sex': 'all', 'age': 'all', 'year': 2024, 'month': 3, 'epiweek': 13, 'date': '2024-03-31', 'metric_value': 0.0, 'in_reporting_delay_period': False}, {'theme': 'infectious_disease', 'sub_theme': 'bloodstream_infection', 'topic': 'MRSA', 'geography_type': 'Nation', 'geography': 'England', 'geography_code': 'E92000001', 'metric': 'MRSA_cases_countsByOnsetType', 'metric_group': 'cases', 'stratum': 'Unknown', 'sex': 'all', 'age': 'all', 'year': 2024, 'month': 3, 'epiweek': 13, 'date': '2024-03-31', 'metric_value': 0.0, 'in_reporting_delay_period': False}, {'theme': 'infectious_disease', 'sub_theme': 'bloodstream_infection', 'topic': 'MRSA', 'geography_type': 'Nation', 'geography': 'England', 'geography_code': 'E92000001', 'metric': 'MRSA_cases_countsByOnsetType', 'metric_group': 'cases', 'stratum': 'Community-onset, community associated', 'sex': 'all', 'age': 'all', 'year': 2024, 'month': 3, 'epiweek': 13, 'date': '2024-03-31', 'metric_value': 38.0, 'in_reporting_delay_period': False}, {'theme': 'infectious_disease', 'sub_theme': 'bloodstream_infection', 'topic': 'MRSA', 'geography_type': 'Nation', 'geography': 'England', 'geography_code': 'E92000001', 'metric': 'MRSA_cases_countsByOnsetType', 'metric_group': 'cases', 'stratum': 'Total cases', 'sex': 'all', 'age': 'all', 'year': 2024, 'month': 3, 'epiweek': 13, 'date': '2024-03-31', 'metric_value': 77.0, 'in_reporting_delay_period': False}, {'theme': 'infectious_disease', 'sub_theme': 'bloodstream_infection', 'topic': 'MRSA', 'geography_type': 'Nation', 'geography': 'England', 'geography_code': 'E92000001', 'metric': 'MRSA_cases_countsByOnsetType', 'metric_group': 'cases', 'stratum': 'Unknown', 'sex': 'all', 'age': 'all', 'year': 2024, 'month': 4, 'epiweek': 18, 'date': '2024-04-30', 'metric_value': 0.0, 'in_reporting_delay_period': False}, {'theme': 'infectious_disease', 'sub_theme': 'bloodstream_infection', 'topic': 'MRSA', 'geography_type': 'Nation', 'geography': 'England', 'geography_code': 'E92000001', 'metric': 'MRSA_cases_countsByOnsetType', 'metric_group': 'cases', 'stratum': 'Community-onset, healthcare associated', 'sex': 'all', 'age': 'all', 'year': 2024, 'month': 4, 'epiweek': 18, 'date': '2024-04-30', 'metric_value': 14.0, 'in_reporting_delay_period': False}, {'theme': 'infectious_disease', 'sub_theme': 'bloodstream_infection', 'topic': 'MRSA', 'geography_type': 'Nation', 'geography': 'England', 'geography_code': 'E92000001', 'metric': 'MRSA_cases_countsByOnsetType', 'metric_group': 'cases', 'stratum': 'Community-onset, community associated', 'sex': 'all', 'age': 'all', 'year': 2024, 'month': 4, 'epiweek': 18, 'date': '2024-04-30', 'metric_value': 36.0, 'in_reporting_delay_period': False}, {'theme': 'infectious_disease', 'sub_theme': 'bloodstream_infection', 'topic': 'MRSA', 'geography_type': 'Nation', 'geography': 'England', 'geography_code': 'E92000001', 'metric': 'MRSA_cases_countsByOnsetType', 'metric_group': 'cases', 'stratum': 'Total cases', 'sex': 'all', 'age': 'all', 'year': 2024, 'month': 4, 'epiweek': 18, 'date': '2024-04-30', 'metric_value': 76.0, 'in_reporting_delay_period': False}, {'theme': 'infectious_disease', 'sub_theme': 'bloodstream_infection', 'topic': 'MRSA', 'geography_type': 'Nation', 'geography': 'England', 'geography_code': 'E92000001', 'metric': 'MRSA_cases_countsByOnsetType', 'metric_group': 'cases', 'stratum': 'Hospital-onset, healthcare associated', 'sex': 'all', 'age': 'all', 'year': 2024, 'month': 4, 'epiweek': 18, 'date': '2024-04-30', 'metric_value': 26.0, 'in_reporting_delay_period': False}, {'theme': 'infectious_disease', 'sub_theme': 'bloodstream_infection', 'topic': 'MRSA', 'geography_type': 'Nation', 'geography': 'England', 'geography_code': 'E92000001', 'metric': 'MRSA_cases_countsByOnsetType', 'metric_group': 'cases', 'stratum': 'No information', 'sex': 'all', 'age': 'all', 'year': 2024, 'month': 4, 'epiweek': 18, 'date': '2024-04-30', 'metric_value': 0.0, 'in_reporting_delay_period': False}, {'theme': 'infectious_disease', 'sub_theme': 'bloodstream_infection', 'topic': 'MRSA', 'geography_type': 'Nation', 'geography': 'England', 'geography_code': 'E92000001', 'metric': 'MRSA_cases_countsByOnsetType', 'metric_group': 'cases', 'stratum': 'Community-onset, healthcare associated', 'sex': 'all', 'age': 'all', 'year': 2024, 'month': 5, 'epiweek': 22, 'date': '2024-05-31', 'metric_value': 10.0, 'in_reporting_delay_period': False}, {'theme': 'infectious_disease', 'sub_theme': 'bloodstream_infection', 'topic': 'MRSA', 'geography_type': 'Nation', 'geography': 'England', 'geography_code': 'E92000001', 'metric': 'MRSA_cases_countsByOnsetType', 'metric_group': 'cases', 'stratum': 'Hospital-onset, healthcare associated', 'sex': 'all', 'age': 'all', 'year': 2024, 'month': 5, 'epiweek': 22, 'date': '2024-05-31', 'metric_value': 38.0, 'in_reporting_delay_period': False}, {'theme': 'infectious_disease', 'sub_theme': 'bloodstream_infection', 'topic': 'MRSA', 'geography_type': 'Nation', 'geography': 'England', 'geography_code': 'E92000001', 'metric': 'MRSA_cases_countsByOnsetType', 'metric_group': 'cases', 'stratum': 'No information', 'sex': 'all', 'age': 'all', 'year': 2024, 'month': 5, 'epiweek': 22, 'date': '2024-05-31', 'metric_value': 0.0, 'in_reporting_delay_period': False}, {'theme': 'infectious_disease', 'sub_theme': 'bloodstream_infection', 'topic': 'MRSA', 'geography_type': 'Nation', 'geography': 'England', 'geography_code': 'E92000001', 'metric': 'MRSA_cases_countsByOnsetType', 'metric_group': 'cases', 'stratum': 'Total cases', 'sex': 'all', 'age': 'all', 'year': 2024, 'month': 5, 'epiweek': 22, 'date': '2024-05-31', 'metric_value': 93.0, 'in_reporting_delay_period': False}, {'theme': 'infectious_disease', 'sub_theme': 'bloodstream_infection', 'topic': 'MRSA', 'geography_type': 'Nation', 'geography': 'England', 'geography_code': 'E92000001', 'metric': 'MRSA_cases_countsByOnsetType', 'metric_group': 'cases', 'stratum': 'Community-onset, community associated', 'sex': 'all', 'age': 'all', 'year': 2024, 'month': 5, 'epiweek': 22, 'date': '2024-05-31', 'metric_value': 45.0, 'in_reporting_delay_period': False}, {'theme': 'infectious_disease', 'sub_theme': 'bloodstream_infection', 'topic': 'MRSA', 'geography_type': 'Nation', 'geography': 'England', 'geography_code': 'E92000001', 'metric': 'MRSA_cases_countsByOnsetType', 'metric_group': 'cases', 'stratum': 'Unknown', 'sex': 'all', 'age': 'all', 'year': 2024, 'month': 5, 'epiweek': 22, 'date': '2024-05-31', 'metric_value': 0.0, 'in_reporting_delay_period': False}, {'theme': 'infectious_disease', 'sub_theme': 'bloodstream_infection', 'topic': 'MRSA', 'geography_type': 'Nation', 'geography': 'England', 'geography_code': 'E92000001', 'metric': 'MRSA_cases_countsByOnsetType', 'metric_group': 'cases', 'stratum': 'Total cases', 'sex': 'all', 'age': 'all', 'year': 2024, 'month': 6, 'epiweek': 26, 'date': '2024-06-30', 'metric_value': 90.0, 'in_reporting_delay_period': False}, {'theme': 'infectious_disease', 'sub_theme': 'bloodstream_infection', 'topic': 'MRSA', 'geography_type': 'Nation', 'geography': 'England', 'geography_code': 'E92000001', 'metric': 'MRSA_cases_countsByOnsetType', 'metric_group': 'cases', 'stratum': 'Community-onset, community associated', 'sex': 'all', 'age': 'all', 'year': 2024, 'month': 6, 'epiweek': 26, 'date': '2024-06-30', 'metric_value': 50.0, 'in_reporting_delay_period': False}, {'theme': 'infectious_disease', 'sub_theme': 'bloodstream_infection', 'topic': 'MRSA', 'geography_type': 'Nation', 'geography': 'England', 'geography_code': 'E92000001', 'metric': 'MRSA_cases_countsByOnsetType', 'metric_group': 'cases', 'stratum': 'No information', 'sex': 'all', 'age': 'all', 'year': 2024, 'month': 6, 'epiweek': 26, 'date': '2024-06-30', 'metric_value': 0.0, 'in_reporting_delay_period': False}, {'theme': 'infectious_disease', 'sub_theme': 'bloodstream_infection', 'topic': 'MRSA', 'geography_type': 'Nation', 'geography': 'England', 'geography_code': 'E92000001', 'metric': 'MRSA_cases_countsByOnsetType', 'metric_group': 'cases', 'stratum': 'Hospital-onset, healthcare associated', 'sex': 'all', 'age': 'all', 'year': 2024, 'month': 6, 'epiweek': 26, 'date': '2024-06-30', 'metric_value': 33.0, 'in_reporting_delay_period': False}, {'theme': 'infectious_disease', 'sub_theme': 'bloodstream_infection', 'topic': 'MRSA', 'geography_type': 'Nation', 'geography': 'England', 'geography_code': 'E92000001', 'metric': 'MRSA_cases_countsByOnsetType', 'metric_group': 'cases', 'stratum': 'Community-onset, healthcare associated', 'sex': 'all', 'age': 'all', 'year': 2024, 'month': 6, 'epiweek': 26, 'date': '2024-06-30', 'metric_value': 7.0, 'in_reporting_delay_period': False}, {'theme': 'infectious_disease', 'sub_theme': 'bloodstream_infection', 'topic': 'MRSA', 'geography_type': 'Nation', 'geography': 'England', 'geography_code': 'E92000001', 'metric': 'MRSA_cases_countsByOnsetType', 'metric_group': 'cases', 'stratum': 'Unknown', 'sex': 'all', 'age': 'all', 'year': 2024, 'month': 6, 'epiweek': 26, 'date': '2024-06-30', 'metric_value': 0.0, 'in_reporting_delay_period': False}, {'theme': 'infectious_disease', 'sub_theme': 'bloodstream_infection', 'topic': 'MRSA', 'geography_type': 'Nation', 'geography': 'England', 'geography_code': 'E92000001', 'metric': 'MRSA_cases_countsByOnsetType', 'metric_group': 'cases', 'stratum': 'Unknown', 'sex': 'all', 'age': 'all', 'year': 2024, 'month': 7, 'epiweek': 31, 'date': '2024-07-31', 'metric_value': 0.0, 'in_reporting_delay_period': False}, {'theme': 'infectious_disease', 'sub_theme': 'bloodstream_infection', 'topic': 'MRSA', 'geography_type': 'Nation', 'geography': 'England', 'geography_code': 'E92000001', 'metric': 'MRSA_cases_countsByOnsetType', 'metric_group': 'cases', 'stratum': 'Community-onset, healthcare associated', 'sex': 'all', 'age': 'all', 'year': 2024, 'month': 7, 'epiweek': 31, 'date': '2024-07-31', 'metric_value': 13.0, 'in_reporting_delay_period': False}, {'theme': 'infectious_disease', 'sub_theme': 'bloodstream_infection', 'topic': 'MRSA', 'geography_type': 'Nation', 'geography': 'England', 'geography_code': 'E92000001', 'metric': 'MRSA_cases_countsByOnsetType', 'metric_group': 'cases', 'stratum': 'No information', 'sex': 'all', 'age': 'all', 'year': 2024, 'month': 7, 'epiweek': 31, 'date': '2024-07-31', 'metric_value': 0.0, 'in_reporting_delay_period': False}, {'theme': 'infectious_disease', 'sub_theme': 'bloodstream_infection', 'topic': 'MRSA', 'geography_type': 'Nation', 'geography': 'England', 'geography_code': 'E92000001', 'metric': 'MRSA_cases_countsByOnsetType', 'metric_group': 'cases', 'stratum': 'Hospital-onset, healthcare associated', 'sex': 'all', 'age': 'all', 'year': 2024, 'month': 7, 'epiweek': 31, 'date': '2024-07-31', 'metric_value': 24.0, 'in_reporting_delay_period': False}, {'theme': 'infectious_disease', 'sub_theme': 'bloodstream_infection', 'topic': 'MRSA', 'geography_type': 'Nation', 'geography': 'England', 'geography_code': 'E92000001', 'metric': 'MRSA_cases_countsByOnsetType', 'metric_group': 'cases', 'stratum': 'Total cases', 'sex': 'all', 'age': 'all', 'year': 2024, 'month': 7, 'epiweek': 31, 'date': '2024-07-31', 'metric_value': 93.0, 'in_reporting_delay_period': False}, {'theme': 'infectious_disease', 'sub_theme': 'bloodstream_infection', 'topic': 'MRSA', 'geography_type': 'Nation', 'geography': 'England', 'geography_code': 'E92000001', 'metric': 'MRSA_cases_countsByOnsetType', 'metric_group': 'cases', 'stratum': 'Community-onset, community associated', 'sex': 'all', 'age': 'all', 'year': 2024, 'month': 7, 'epiweek': 31, 'date': '2024-07-31', 'metric_value': 56.0, 'in_reporting_delay_period': False}, {'theme': 'infectious_disease', 'sub_theme': 'bloodstream_infection', 'topic': 'MRSA', 'geography_type': 'Nation', 'geography': 'England', 'geography_code': 'E92000001', 'metric': 'MRSA_cases_countsByOnsetType', 'metric_group': 'cases', 'stratum': 'Community-onset, community associated', 'sex': 'all', 'age': 'all', 'year': 2024, 'month': 8, 'epiweek': 35, 'date': '2024-08-31', 'metric_value': 38.0, 'in_reporting_delay_period': False}, {'theme': 'infectious_disease', 'sub_theme': 'bloodstream_infection', 'topic': 'MRSA', 'geography_type': 'Nation', 'geography': 'England', 'geography_code': 'E92000001', 'metric': 'MRSA_cases_countsByOnsetType', 'metric_group': 'cases', 'stratum': 'Hospital-onset, healthcare associated', 'sex': 'all', 'age': 'all', 'year': 2024, 'month': 8, 'epiweek': 35, 'date': '2024-08-31', 'metric_value': 25.0, 'in_reporting_delay_period': False}, {'theme': 'infectious_disease', 'sub_theme': 'bloodstream_infection', 'topic': 'MRSA', 'geography_type': 'Nation', 'geography': 'England', 'geography_code': 'E92000001', 'metric': 'MRSA_cases_countsByOnsetType', 'metric_group': 'cases', 'stratum': 'Community-onset, healthcare associated', 'sex': 'all', 'age': 'all', 'year': 2024, 'month': 8, 'epiweek': 35, 'date': '2024-08-31', 'metric_value': 11.0, 'in_reporting_delay_period': False}, {'theme': 'infectious_disease', 'sub_theme': 'bloodstream_infection', 'topic': 'MRSA', 'geography_type': 'Nation', 'geography': 'England', 'geography_code': 'E92000001', 'metric': 'MRSA_cases_countsByOnsetType', 'metric_group': 'cases', 'stratum': 'No information', 'sex': 'all', 'age': 'all', 'year': 2024, 'month': 8, 'epiweek': 35, 'date': '2024-08-31', 'metric_value': 0.0, 'in_reporting_delay_period': False}, {'theme': 'infectious_disease', 'sub_theme': 'bloodstream_infection', 'topic': 'MRSA', 'geography_type': 'Nation', 'geography': 'England', 'geography_code': 'E92000001', 'metric': 'MRSA_cases_countsByOnsetType', 'metric_group': 'cases', 'stratum': 'Unknown', 'sex': 'all', 'age': 'all', 'year': 2024, 'month': 8, 'epiweek': 35, 'date': '2024-08-31', 'metric_value': 0.0, 'in_reporting_delay_period': False}, {'theme': 'infectious_disease', 'sub_theme': 'bloodstream_infection', 'topic': 'MRSA', 'geography_type': 'Nation', 'geography': 'England', 'geography_code': 'E92000001', 'metric': 'MRSA_cases_countsByOnsetType', 'metric_group': 'cases', 'stratum': 'Total cases', 'sex': 'all', 'age': 'all', 'year': 2024, 'month': 8, 'epiweek': 35, 'date': '2024-08-31', 'metric_value': 74.0, 'in_reporting_delay_period': False}]\n"
     ]
    }
   ],
   "source": [
    "print(deaths)"
   ]
  },
  {
   "cell_type": "code",
   "execution_count": 15,
   "id": "ec130709-f8bc-488e-991d-e8abc11e60ba",
   "metadata": {},
   "outputs": [
    {
     "name": "stdout",
     "output_type": "stream",
     "text": [
      "[{'theme': 'infectious_disease', 'sub_theme': 'bloodstream_infection', 'topic': 'MRSA', 'geography_type': 'Nation', 'geography': 'England', 'geography_code': 'E92000001', 'metric': 'MRSA_cases_countsByOnsetType', 'metric_group': 'cases', 'stratum': 'Hospital-onset, healthcare associated', 'sex': 'all', 'age': 'all', 'year': 2023, 'month': 6, 'epiweek': 26, 'date': '2023-06-30', 'metric_value': 25.0, 'in_reporting_delay_period': False}, {'theme': 'infectious_disease', 'sub_theme': 'bloodstream_infection', 'topic': 'MRSA', 'geography_type': 'Nation', 'geography': 'England', 'geography_code': 'E92000001', 'metric': 'MRSA_cases_countsByOnsetType', 'metric_group': 'cases', 'stratum': 'Total cases', 'sex': 'all', 'age': 'all', 'year': 2023, 'month': 6, 'epiweek': 26, 'date': '2023-06-30', 'metric_value': 73.0, 'in_reporting_delay_period': False}, {'theme': 'infectious_disease', 'sub_theme': 'bloodstream_infection', 'topic': 'MRSA', 'geography_type': 'Nation', 'geography': 'England', 'geography_code': 'E92000001', 'metric': 'MRSA_cases_countsByOnsetType', 'metric_group': 'cases', 'stratum': 'Unknown', 'sex': 'all', 'age': 'all', 'year': 2023, 'month': 6, 'epiweek': 26, 'date': '2023-06-30', 'metric_value': 0.0, 'in_reporting_delay_period': False}]\n"
     ]
    }
   ],
   "source": [
    "structure[\"metric\"]=\"MRSA_cases_countsByOnsetType\" \n",
    "api=APIwrapper(**structure)\n",
    "data=api.get_page(page_size=3)\n",
    "print(data)"
   ]
  },
  {
   "cell_type": "code",
   "execution_count": 16,
   "id": "fa60d9ae-0790-4710-ba6a-d85b22672932",
   "metadata": {},
   "outputs": [
    {
     "name": "stdout",
     "output_type": "stream",
     "text": [
      "Data points expected: 90\n",
      "Data points retrieved: 90\n"
     ]
    }
   ],
   "source": [
    "structure[\"metric\"]=\"MRSA_cases_countsByOnsetType\" \n",
    "api=APIwrapper(**structure)\n",
    "lineage=[]\n",
    "while True:\n",
    "    data=api.get_page(page_size=365)\n",
    "    if data==[]:\n",
    "        break\n",
    "    lineage.extend(data)\n",
    "print(f\"Data points expected: {api.count}\")\n",
    "print(f\"Data points retrieved: {len(lineage)}\")"
   ]
  },
  {
   "cell_type": "code",
   "execution_count": 17,
   "id": "4c993c62-64ba-4b54-a101-ddba3a340ba2",
   "metadata": {},
   "outputs": [],
   "source": [
    "import json"
   ]
  },
  {
   "cell_type": "code",
   "execution_count": 18,
   "id": "d2531b91-2dfd-4c4d-9bc5-017d5b8227aa",
   "metadata": {},
   "outputs": [],
   "source": [
    "with open(\"cases.json\", \"wt\") as OUTF:\n",
    "    json.dump(cases, OUTF)"
   ]
  },
  {
   "cell_type": "code",
   "execution_count": 19,
   "id": "4de57153-a589-4dec-b9bd-5e81a41d5c85",
   "metadata": {},
   "outputs": [],
   "source": [
    "with open(\"admissions.json\", \"wt\") as OUTF:\n",
    "    json.dump(admissions, OUTF)"
   ]
  },
  {
   "cell_type": "code",
   "execution_count": 20,
   "id": "4b47e8bc-c864-40a0-afb0-42128bcce551",
   "metadata": {},
   "outputs": [],
   "source": [
    "with open(\"deaths.json\", \"wt\") as OUTF:\n",
    "    json.dump(deaths, OUTF)"
   ]
  },
  {
   "cell_type": "code",
   "execution_count": 21,
   "id": "d06f4d95-433a-4197-bea4-ec884dbe3f8b",
   "metadata": {},
   "outputs": [],
   "source": [
    "with open(\"lineage.json\", \"wt\") as OUTF:\n",
    "    json.dump(lineage, OUTF)"
   ]
  },
  {
   "cell_type": "code",
   "execution_count": 22,
   "id": "a7891664-e300-45be-8804-396b8e19a1c4",
   "metadata": {},
   "outputs": [],
   "source": [
    "#-------------------------------------------------- Part2-------------------------------------#"
   ]
  },
  {
   "cell_type": "code",
   "execution_count": 23,
   "id": "3e927fa3-8187-4725-adbc-03d5108c9b7d",
   "metadata": {},
   "outputs": [],
   "source": [
    "import pandas as pd\n",
    "import matplotlib.pyplot as plt\n",
    "import matplotlib.dates as mdates\n",
    "import json"
   ]
  },
  {
   "cell_type": "code",
   "execution_count": 24,
   "id": "6faddf21-305a-4394-8fa8-b8957bd55b41",
   "metadata": {},
   "outputs": [],
   "source": [
    "# an iPython  \"magic\" that enables the embedding of matplotlib output\n",
    "%matplotlib inline\n",
    "# make figures larger\n",
    "plt.rcParams['figure.dpi'] = 100"
   ]
  },
  {
   "cell_type": "code",
   "execution_count": 25,
   "id": "f52ee243-d272-4558-a67d-566a8d8127be",
   "metadata": {},
   "outputs": [],
   "source": [
    "with open(\"admissions.json\", \"rt\") as INFILE:\n",
    "    admissions=json.load(INFILE)\n",
    "with open(\"cases.json\", \"rt\") as INFILE:\n",
    "    cases=json.load(INFILE)\n",
    "with open(\"deaths.json\", \"rt\") as INFILE:\n",
    "\n",
    "    deaths=json.load(INFILE)"
   ]
  },
  {
   "cell_type": "code",
   "execution_count": 26,
   "id": "db565376-ebb8-4819-ba1b-0a50960ce9ff",
   "metadata": {},
   "outputs": [
    {
     "data": {
      "text/plain": [
       "[{'theme': 'infectious_disease',\n",
       "  'sub_theme': 'bloodstream_infection',\n",
       "  'topic': 'MRSA',\n",
       "  'geography_type': 'Nation',\n",
       "  'geography': 'England',\n",
       "  'geography_code': 'E92000001',\n",
       "  'metric': 'MRSA_cases_countsByOnsetType',\n",
       "  'metric_group': 'cases',\n",
       "  'stratum': 'Hospital-onset, healthcare associated',\n",
       "  'sex': 'all',\n",
       "  'age': 'all',\n",
       "  'year': 2023,\n",
       "  'month': 6,\n",
       "  'epiweek': 26,\n",
       "  'date': '2023-06-30',\n",
       "  'metric_value': 25.0,\n",
       "  'in_reporting_delay_period': False},\n",
       " {'theme': 'infectious_disease',\n",
       "  'sub_theme': 'bloodstream_infection',\n",
       "  'topic': 'MRSA',\n",
       "  'geography_type': 'Nation',\n",
       "  'geography': 'England',\n",
       "  'geography_code': 'E92000001',\n",
       "  'metric': 'MRSA_cases_countsByOnsetType',\n",
       "  'metric_group': 'cases',\n",
       "  'stratum': 'Total cases',\n",
       "  'sex': 'all',\n",
       "  'age': 'all',\n",
       "  'year': 2023,\n",
       "  'month': 6,\n",
       "  'epiweek': 26,\n",
       "  'date': '2023-06-30',\n",
       "  'metric_value': 73.0,\n",
       "  'in_reporting_delay_period': False},\n",
       " {'theme': 'infectious_disease',\n",
       "  'sub_theme': 'bloodstream_infection',\n",
       "  'topic': 'MRSA',\n",
       "  'geography_type': 'Nation',\n",
       "  'geography': 'England',\n",
       "  'geography_code': 'E92000001',\n",
       "  'metric': 'MRSA_cases_countsByOnsetType',\n",
       "  'metric_group': 'cases',\n",
       "  'stratum': 'Unknown',\n",
       "  'sex': 'all',\n",
       "  'age': 'all',\n",
       "  'year': 2023,\n",
       "  'month': 6,\n",
       "  'epiweek': 26,\n",
       "  'date': '2023-06-30',\n",
       "  'metric_value': 0.0,\n",
       "  'in_reporting_delay_period': False},\n",
       " {'theme': 'infectious_disease',\n",
       "  'sub_theme': 'bloodstream_infection',\n",
       "  'topic': 'MRSA',\n",
       "  'geography_type': 'Nation',\n",
       "  'geography': 'England',\n",
       "  'geography_code': 'E92000001',\n",
       "  'metric': 'MRSA_cases_countsByOnsetType',\n",
       "  'metric_group': 'cases',\n",
       "  'stratum': 'Community-onset, healthcare associated',\n",
       "  'sex': 'all',\n",
       "  'age': 'all',\n",
       "  'year': 2023,\n",
       "  'month': 6,\n",
       "  'epiweek': 26,\n",
       "  'date': '2023-06-30',\n",
       "  'metric_value': 11.0,\n",
       "  'in_reporting_delay_period': False},\n",
       " {'theme': 'infectious_disease',\n",
       "  'sub_theme': 'bloodstream_infection',\n",
       "  'topic': 'MRSA',\n",
       "  'geography_type': 'Nation',\n",
       "  'geography': 'England',\n",
       "  'geography_code': 'E92000001',\n",
       "  'metric': 'MRSA_cases_countsByOnsetType',\n",
       "  'metric_group': 'cases',\n",
       "  'stratum': 'No information',\n",
       "  'sex': 'all',\n",
       "  'age': 'all',\n",
       "  'year': 2023,\n",
       "  'month': 6,\n",
       "  'epiweek': 26,\n",
       "  'date': '2023-06-30',\n",
       "  'metric_value': 0.0,\n",
       "  'in_reporting_delay_period': False}]"
      ]
     },
     "execution_count": 26,
     "metadata": {},
     "output_type": "execute_result"
    }
   ],
   "source": [
    "cases[:5]"
   ]
  },
  {
   "cell_type": "code",
   "execution_count": 27,
   "id": "4b4bd6f2-1379-4591-b3af-7c610ef43a06",
   "metadata": {},
   "outputs": [],
   "source": [
    "data={}\n",
    "for dataset in [cases]:\n",
    "    for entry in dataset:\n",
    "        date=entry['date']\n",
    "        \n",
    "        metric=entry['metric']\n",
    "        value=entry['metric_value']\n",
    "        if date not in data:\n",
    "            data[date]={}\n",
    "        data[date][metric]=value\n",
    "        "
   ]
  },
  {
   "cell_type": "code",
   "execution_count": 28,
   "id": "efb64d51-f82e-4f7a-a07e-88445d721e72",
   "metadata": {},
   "outputs": [
    {
     "data": {
      "text/plain": [
       "{'2023-06-30': {'MRSA_cases_countsByOnsetType': 37.0},\n",
       " '2023-07-31': {'MRSA_cases_countsByOnsetType': 31.0},\n",
       " '2023-08-31': {'MRSA_cases_countsByOnsetType': 63.0},\n",
       " '2023-09-30': {'MRSA_cases_countsByOnsetType': 63.0},\n",
       " '2023-10-31': {'MRSA_cases_countsByOnsetType': 35.0},\n",
       " '2023-11-30': {'MRSA_cases_countsByOnsetType': 78.0},\n",
       " '2023-12-31': {'MRSA_cases_countsByOnsetType': 0.0},\n",
       " '2024-01-31': {'MRSA_cases_countsByOnsetType': 0.0},\n",
       " '2024-02-29': {'MRSA_cases_countsByOnsetType': 0.0},\n",
       " '2024-03-31': {'MRSA_cases_countsByOnsetType': 77.0},\n",
       " '2024-04-30': {'MRSA_cases_countsByOnsetType': 0.0},\n",
       " '2024-05-31': {'MRSA_cases_countsByOnsetType': 0.0},\n",
       " '2024-06-30': {'MRSA_cases_countsByOnsetType': 0.0},\n",
       " '2024-07-31': {'MRSA_cases_countsByOnsetType': 56.0},\n",
       " '2024-08-31': {'MRSA_cases_countsByOnsetType': 74.0}}"
      ]
     },
     "execution_count": 28,
     "metadata": {},
     "output_type": "execute_result"
    }
   ],
   "source": [
    "data"
   ]
  },
  {
   "cell_type": "code",
   "execution_count": 29,
   "id": "769d7d8c-7c8a-4143-8fbe-32f145ec73c7",
   "metadata": {},
   "outputs": [
    {
     "data": {
      "text/plain": [
       "['2023-06-30',\n",
       " '2023-07-31',\n",
       " '2023-08-31',\n",
       " '2023-09-30',\n",
       " '2023-10-31',\n",
       " '2023-11-30',\n",
       " '2023-12-31',\n",
       " '2024-01-31',\n",
       " '2024-02-29',\n",
       " '2024-03-31',\n",
       " '2024-04-30',\n",
       " '2024-05-31',\n",
       " '2024-06-30',\n",
       " '2024-07-31',\n",
       " '2024-08-31']"
      ]
     },
     "execution_count": 29,
     "metadata": {},
     "output_type": "execute_result"
    }
   ],
   "source": [
    "dates=list(data.keys())\n",
    "dates.sort()\n",
    "dates"
   ]
  },
  {
   "cell_type": "code",
   "execution_count": 30,
   "id": "58bff108-6853-4555-b1e0-6719c2be2d92",
   "metadata": {},
   "outputs": [],
   "source": [
    "def parse_date(datestring):\n",
    "    \"\"\" Convert a date string into a pandas datetime object \"\"\"\n",
    "    return pd.to_datetime(datestring, format=\"%Y-%m-%d\")"
   ]
  },
  {
   "cell_type": "code",
   "execution_count": 31,
   "id": "60af49e9-f610-4629-845e-c7ac53c68dd8",
   "metadata": {},
   "outputs": [
    {
     "name": "stdout",
     "output_type": "stream",
     "text": [
      "2023-06-30 00:00:00  to  2024-08-31 00:00:00\n"
     ]
    }
   ],
   "source": [
    "startdate=parse_date(dates[0])\n",
    "enddate=parse_date(dates[-1])\n",
    "print (startdate, ' to ', enddate)"
   ]
  },
  {
   "cell_type": "code",
   "execution_count": 32,
   "id": "b2440f56-7a8f-4e42-8180-9c2e02b23202",
   "metadata": {},
   "outputs": [
    {
     "data": {
      "text/html": [
       "<div>\n",
       "<style scoped>\n",
       "    .dataframe tbody tr th:only-of-type {\n",
       "        vertical-align: middle;\n",
       "    }\n",
       "\n",
       "    .dataframe tbody tr th {\n",
       "        vertical-align: top;\n",
       "    }\n",
       "\n",
       "    .dataframe thead th {\n",
       "        text-align: right;\n",
       "    }\n",
       "</style>\n",
       "<table border=\"1\" class=\"dataframe\">\n",
       "  <thead>\n",
       "    <tr style=\"text-align: right;\">\n",
       "      <th></th>\n",
       "      <th>cases</th>\n",
       "    </tr>\n",
       "  </thead>\n",
       "  <tbody>\n",
       "    <tr>\n",
       "      <th>2023-06-30</th>\n",
       "      <td>NaN</td>\n",
       "    </tr>\n",
       "    <tr>\n",
       "      <th>2023-07-01</th>\n",
       "      <td>NaN</td>\n",
       "    </tr>\n",
       "    <tr>\n",
       "      <th>2023-07-02</th>\n",
       "      <td>NaN</td>\n",
       "    </tr>\n",
       "    <tr>\n",
       "      <th>2023-07-03</th>\n",
       "      <td>NaN</td>\n",
       "    </tr>\n",
       "    <tr>\n",
       "      <th>2023-07-04</th>\n",
       "      <td>NaN</td>\n",
       "    </tr>\n",
       "    <tr>\n",
       "      <th>...</th>\n",
       "      <td>...</td>\n",
       "    </tr>\n",
       "    <tr>\n",
       "      <th>2024-08-27</th>\n",
       "      <td>NaN</td>\n",
       "    </tr>\n",
       "    <tr>\n",
       "      <th>2024-08-28</th>\n",
       "      <td>NaN</td>\n",
       "    </tr>\n",
       "    <tr>\n",
       "      <th>2024-08-29</th>\n",
       "      <td>NaN</td>\n",
       "    </tr>\n",
       "    <tr>\n",
       "      <th>2024-08-30</th>\n",
       "      <td>NaN</td>\n",
       "    </tr>\n",
       "    <tr>\n",
       "      <th>2024-08-31</th>\n",
       "      <td>NaN</td>\n",
       "    </tr>\n",
       "  </tbody>\n",
       "</table>\n",
       "<p>429 rows × 1 columns</p>\n",
       "</div>"
      ],
      "text/plain": [
       "           cases\n",
       "2023-06-30   NaN\n",
       "2023-07-01   NaN\n",
       "2023-07-02   NaN\n",
       "2023-07-03   NaN\n",
       "2023-07-04   NaN\n",
       "...          ...\n",
       "2024-08-27   NaN\n",
       "2024-08-28   NaN\n",
       "2024-08-29   NaN\n",
       "2024-08-30   NaN\n",
       "2024-08-31   NaN\n",
       "\n",
       "[429 rows x 1 columns]"
      ]
     },
     "execution_count": 32,
     "metadata": {},
     "output_type": "execute_result"
    }
   ],
   "source": [
    "index=pd.date_range(startdate, enddate, freq='D')\n",
    "timeseriesdf=pd.DataFrame(index=index, columns=['cases'])\n",
    "timeseriesdf"
   ]
  },
  {
   "cell_type": "code",
   "execution_count": 33,
   "id": "3085f67b-4ff9-4b4a-8cde-831927ed3436",
   "metadata": {},
   "outputs": [
    {
     "name": "stderr",
     "output_type": "stream",
     "text": [
      "/tmp/ipykernel_683/2927721273.py:17: FutureWarning: Downcasting object dtype arrays on .fillna, .ffill, .bfill is deprecated and will change in a future version. Call result.infer_objects(copy=False) instead. To opt-in to the future behavior, set `pd.set_option('future.no_silent_downcasting', True)`\n",
      "  timeseriesdf.fillna(0.0, inplace=True)\n"
     ]
    },
    {
     "data": {
      "text/html": [
       "<div>\n",
       "<style scoped>\n",
       "    .dataframe tbody tr th:only-of-type {\n",
       "        vertical-align: middle;\n",
       "    }\n",
       "\n",
       "    .dataframe tbody tr th {\n",
       "        vertical-align: top;\n",
       "    }\n",
       "\n",
       "    .dataframe thead th {\n",
       "        text-align: right;\n",
       "    }\n",
       "</style>\n",
       "<table border=\"1\" class=\"dataframe\">\n",
       "  <thead>\n",
       "    <tr style=\"text-align: right;\">\n",
       "      <th></th>\n",
       "      <th>cases</th>\n",
       "    </tr>\n",
       "  </thead>\n",
       "  <tbody>\n",
       "    <tr>\n",
       "      <th>2023-06-30</th>\n",
       "      <td>37.0</td>\n",
       "    </tr>\n",
       "    <tr>\n",
       "      <th>2023-07-01</th>\n",
       "      <td>0.0</td>\n",
       "    </tr>\n",
       "    <tr>\n",
       "      <th>2023-07-02</th>\n",
       "      <td>0.0</td>\n",
       "    </tr>\n",
       "    <tr>\n",
       "      <th>2023-07-03</th>\n",
       "      <td>0.0</td>\n",
       "    </tr>\n",
       "    <tr>\n",
       "      <th>2023-07-04</th>\n",
       "      <td>0.0</td>\n",
       "    </tr>\n",
       "    <tr>\n",
       "      <th>...</th>\n",
       "      <td>...</td>\n",
       "    </tr>\n",
       "    <tr>\n",
       "      <th>2024-08-27</th>\n",
       "      <td>0.0</td>\n",
       "    </tr>\n",
       "    <tr>\n",
       "      <th>2024-08-28</th>\n",
       "      <td>0.0</td>\n",
       "    </tr>\n",
       "    <tr>\n",
       "      <th>2024-08-29</th>\n",
       "      <td>0.0</td>\n",
       "    </tr>\n",
       "    <tr>\n",
       "      <th>2024-08-30</th>\n",
       "      <td>0.0</td>\n",
       "    </tr>\n",
       "    <tr>\n",
       "      <th>2024-08-31</th>\n",
       "      <td>74.0</td>\n",
       "    </tr>\n",
       "  </tbody>\n",
       "</table>\n",
       "<p>429 rows × 1 columns</p>\n",
       "</div>"
      ],
      "text/plain": [
       "            cases\n",
       "2023-06-30   37.0\n",
       "2023-07-01    0.0\n",
       "2023-07-02    0.0\n",
       "2023-07-03    0.0\n",
       "2023-07-04    0.0\n",
       "...           ...\n",
       "2024-08-27    0.0\n",
       "2024-08-28    0.0\n",
       "2024-08-29    0.0\n",
       "2024-08-30    0.0\n",
       "2024-08-31   74.0\n",
       "\n",
       "[429 rows x 1 columns]"
      ]
     },
     "execution_count": 33,
     "metadata": {},
     "output_type": "execute_result"
    }
   ],
   "source": [
    "# translate the columns to our metrics\n",
    "metrics ={'cases': 'MRSA_cases_countsByOnsetType',\n",
    "          'admissions': 'MRSA_cases_countsByOnsetType',\n",
    "          'deaths': 'MRSA_cases_countsByOnsetType'}\n",
    "\n",
    "for date, entry in data.items(): # each entry is a dictionary with cases, admissions and deaths\n",
    "    pd_date=parse_date(date) # convert to Pandas format\n",
    "    for column in ['cases']: \n",
    "        metric_name=metrics[column]\n",
    "        # do not assume all values are there for every date - if a value is not available, insert a 0.0\n",
    "        value= entry.get(metric_name, 0.0)\n",
    "        # this is the way you access a specific location in the dataframe - use .loc\n",
    "        # and put index,column in a single set of [ ]\n",
    "        timeseriesdf.loc[date, column]=value\n",
    "            \n",
    "# fill in any remaining \"holes\" due to missing dates\n",
    "timeseriesdf.fillna(0.0, inplace=True)\n",
    "            \n",
    "timeseriesdf"
   ]
  },
  {
   "cell_type": "code",
   "execution_count": 34,
   "id": "bb0aade2-7621-4e56-90a8-689d2f881681",
   "metadata": {},
   "outputs": [
    {
     "data": {
      "image/png": "[encoded data removed]",
      "text/plain": [
       "<Figure size 640x480 with 1 Axes>"
      ]
     },
     "metadata": {},
     "output_type": "display_data"
    }
   ],
   "source": [
    "ax=timeseriesdf.plot() # easy peasy...\n",
    "ax.set_title('Daily cases');"
   ]
  },
  {
   "cell_type": "code",
   "execution_count": 35,
   "id": "6222fd66-fffc-4efb-8df8-ba3c74c8e71f",
   "metadata": {},
   "outputs": [
    {
     "data": {
      "image/png": "[encoded data removed]",
      "text/plain": [
       "<Figure size 640x480 with 1 Axes>"
      ]
     },
     "metadata": {},
     "output_type": "display_data"
    }
   ],
   "source": [
    "ax=timeseriesdf.plot(logy=True) # ...lemon squeezy\n",
    "ax.set_title('Daily cases (log scale)');"
   ]
  },
  {
   "cell_type": "code",
   "execution_count": 36,
   "id": "59112a92-d3d7-4ff8-b9f9-97c88f9039eb",
   "metadata": {},
   "outputs": [
    {
     "data": {
      "text/plain": [
       "Text(0.5, 1.0, 'Histogram of Data (log scale)')"
      ]
     },
     "execution_count": 36,
     "metadata": {},
     "output_type": "execute_result"
    },
    {
     "data": {
      "image/png": "[encoded data removed]",
      "text/plain": [
       "<Figure size 640x480 with 1 Axes>"
      ]
     },
     "metadata": {},
     "output_type": "display_data"
    }
   ],
   "source": [
    "ax = timeseriesdf.hist(bins=30, log=True)  # 'bins' specifies the number of bins\n",
    "ax[0][0].set_title('Histogram of Data (log scale)')\n"
   ]
  },
  {
   "cell_type": "code",
   "execution_count": 37,
   "id": "29366e42-45e3-4015-962c-c74f5cf64ba8",
   "metadata": {},
   "outputs": [
    {
     "data": {
      "text/plain": [
       "Text(0.5, 1.0, 'Histogram of Data')"
      ]
     },
     "execution_count": 37,
     "metadata": {},
     "output_type": "execute_result"
    },
    {
     "data": {
      "image/png": "[encoded data removed]",
      "text/plain": [
       "<Figure size 640x480 with 1 Axes>"
      ]
     },
     "metadata": {},
     "output_type": "display_data"
    }
   ],
   "source": [
    "ax = timeseriesdf.hist(bins=30)  # 'bins' specifies the number of bins\n",
    "ax[0][0].set_title('Histogram of Data')\n"
   ]
  },
  {
   "cell_type": "code",
   "execution_count": 65,
   "id": "fb65bab3-0c87-46fa-ad43-0b0cdafcabf7",
   "metadata": {},
   "outputs": [
    {
     "ename": "ValueError",
     "evalue": " is not a valid plot kind Valid plot kinds: ('line', 'bar', 'barh', 'kde', 'density', 'area', 'hist', 'box', 'pie', 'scatter', 'hexbin')",
     "output_type": "error",
     "traceback": [
      "\u001b[0;31m---------------------------------------------------------------------------\u001b[0m",
      "\u001b[0;31mValueError\u001b[0m                                Traceback (most recent call last)",
      "Cell \u001b[0;32mIn[65], line 1\u001b[0m\n\u001b[0;32m----> 1\u001b[0m ax \u001b[38;5;241m=\u001b[39m \u001b[43mtimeseriesdf\u001b[49m\u001b[38;5;241;43m.\u001b[39;49m\u001b[43mhead\u001b[49m\u001b[43m(\u001b[49m\u001b[43m)\u001b[49m\u001b[38;5;241;43m.\u001b[39;49m\u001b[43mplot\u001b[49m\u001b[43m(\u001b[49m\u001b[43mkind\u001b[49m\u001b[38;5;241;43m=\u001b[39;49m\u001b[38;5;124;43m\"\u001b[39;49m\u001b[38;5;124;43m\"\u001b[39;49m\u001b[43m,\u001b[49m\u001b[43m \u001b[49m\u001b[43my\u001b[49m\u001b[38;5;241;43m=\u001b[39;49m\u001b[38;5;124;43m\"\u001b[39;49m\u001b[38;5;124;43mcases\u001b[39;49m\u001b[38;5;124;43m\"\u001b[39;49m\u001b[43m,\u001b[49m\u001b[43m \u001b[49m\u001b[43mautopct\u001b[49m\u001b[38;5;241;43m=\u001b[39;49m\u001b[38;5;124;43m'\u001b[39;49m\u001b[38;5;132;43;01m%1.1f\u001b[39;49;00m\u001b[38;5;132;43;01m%%\u001b[39;49;00m\u001b[38;5;124;43m'\u001b[39;49m\u001b[43m)\u001b[49m \n\u001b[1;32m      2\u001b[0m ax\u001b[38;5;241m.\u001b[39mset_ylabel(\u001b[38;5;124m'\u001b[39m\u001b[38;5;124m'\u001b[39m)  \u001b[38;5;66;03m# This removes the default y-label\u001b[39;00m\n\u001b[1;32m      3\u001b[0m ax\u001b[38;5;241m.\u001b[39mset_title(\u001b[38;5;124m'\u001b[39m\u001b[38;5;124mPie Chart of Cases (Top 5)\u001b[39m\u001b[38;5;124m'\u001b[39m)\n",
      "File \u001b[0;32m/opt/conda/lib/python3.11/site-packages/pandas/plotting/_core.py:960\u001b[0m, in \u001b[0;36mPlotAccessor.__call__\u001b[0;34m(self, *args, **kwargs)\u001b[0m\n\u001b[1;32m    957\u001b[0m     \u001b[38;5;28;01mreturn\u001b[39;00m plot_backend\u001b[38;5;241m.\u001b[39mplot(\u001b[38;5;28mself\u001b[39m\u001b[38;5;241m.\u001b[39m_parent, x\u001b[38;5;241m=\u001b[39mx, y\u001b[38;5;241m=\u001b[39my, kind\u001b[38;5;241m=\u001b[39mkind, \u001b[38;5;241m*\u001b[39m\u001b[38;5;241m*\u001b[39mkwargs)\n\u001b[1;32m    959\u001b[0m \u001b[38;5;28;01mif\u001b[39;00m kind \u001b[38;5;129;01mnot\u001b[39;00m \u001b[38;5;129;01min\u001b[39;00m \u001b[38;5;28mself\u001b[39m\u001b[38;5;241m.\u001b[39m_all_kinds:\n\u001b[0;32m--> 960\u001b[0m     \u001b[38;5;28;01mraise\u001b[39;00m \u001b[38;5;167;01mValueError\u001b[39;00m(\n\u001b[1;32m    961\u001b[0m         \u001b[38;5;124mf\u001b[39m\u001b[38;5;124m\"\u001b[39m\u001b[38;5;132;01m{\u001b[39;00mkind\u001b[38;5;132;01m}\u001b[39;00m\u001b[38;5;124m is not a valid plot kind \u001b[39m\u001b[38;5;124m\"\u001b[39m\n\u001b[1;32m    962\u001b[0m         \u001b[38;5;124mf\u001b[39m\u001b[38;5;124m\"\u001b[39m\u001b[38;5;124mValid plot kinds: \u001b[39m\u001b[38;5;132;01m{\u001b[39;00m\u001b[38;5;28mself\u001b[39m\u001b[38;5;241m.\u001b[39m_all_kinds\u001b[38;5;132;01m}\u001b[39;00m\u001b[38;5;124m\"\u001b[39m\n\u001b[1;32m    963\u001b[0m     )\n\u001b[1;32m    965\u001b[0m \u001b[38;5;66;03m# The original data structured can be transformed before passed to the\u001b[39;00m\n\u001b[1;32m    966\u001b[0m \u001b[38;5;66;03m# backend. For example, for DataFrame is common to set the index as the\u001b[39;00m\n\u001b[1;32m    967\u001b[0m \u001b[38;5;66;03m# `x` parameter, and return a Series with the parameter `y` as values.\u001b[39;00m\n\u001b[1;32m    968\u001b[0m data \u001b[38;5;241m=\u001b[39m \u001b[38;5;28mself\u001b[39m\u001b[38;5;241m.\u001b[39m_parent\u001b[38;5;241m.\u001b[39mcopy()\n",
      "\u001b[0;31mValueError\u001b[0m:  is not a valid plot kind Valid plot kinds: ('line', 'bar', 'barh', 'kde', 'density', 'area', 'hist', 'box', 'pie', 'scatter', 'hexbin')"
     ]
    }
   ],
   "source": [
    "ax = timeseriesdf.head().plot(kind=\"\", y=\"cases\", autopct='%1.1f%%') \n",
    "ax.set_ylabel('')  # This removes the default y-label\n",
    "ax.set_title('Pie Chart of Cases (Top 5)')\n"
   ]
  },
  {
   "cell_type": "code",
   "execution_count": null,
   "id": "68ff23de-a87b-4881-aff3-a1bb83bcb535",
   "metadata": {},
   "outputs": [],
   "source": []
  }
 ],
 "metadata": {
  "kernelspec": {
   "display_name": "Python 3 (ipykernel)",
   "language": "python",
   "name": "python3"
  },
  "language_info": {
   "codemirror_mode": {
    "name": "ipython",
    "version": 3
   },
   "file_extension": ".py",
   "mimetype": "text/x-python",
   "name": "python",
   "nbconvert_exporter": "python",
   "pygments_lexer": "ipython3",
   "version": "3.11.9"
  }
 },
 "nbformat": 4,
 "nbformat_minor": 5
}
